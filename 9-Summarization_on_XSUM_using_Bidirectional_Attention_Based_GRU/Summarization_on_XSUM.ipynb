{
 "cells": [
  {
   "cell_type": "markdown",
   "metadata": {},
   "source": [
    "\n",
    "<div dir=\"rtl\" style=\"font-family: Vazir; width: 85%; font-size: 16px\">\n",
    "\n",
    "*بخش مجموعه داده:*\n",
    "---\n"
   ]
  },
  {
   "cell_type": "markdown",
   "metadata": {},
   "source": [
    "## Step 1: Load the Dataset and Tokenize"
   ]
  },
  {
   "cell_type": "code",
   "execution_count": null,
   "metadata": {},
   "outputs": [
    {
     "name": "stdout",
     "output_type": "stream",
     "text": [
      "Mounted at /content/drive\n"
     ]
    }
   ],
   "source": [
    "from google.colab import drive\n",
    "drive.mount('/content/drive')\n"
   ]
  },
  {
   "cell_type": "code",
   "execution_count": null,
   "metadata": {},
   "outputs": [
    {
     "name": "stdout",
     "output_type": "stream",
     "text": [
      "Collecting datasets\n",
      "  Downloading datasets-3.2.0-py3-none-any.whl.metadata (20 kB)\n",
      "Requirement already satisfied: filelock in /usr/local/lib/python3.10/dist-packages (from datasets) (3.16.1)\n",
      "Requirement already satisfied: numpy>=1.17 in /usr/local/lib/python3.10/dist-packages (from datasets) (1.26.4)\n",
      "Requirement already satisfied: pyarrow>=15.0.0 in /usr/local/lib/python3.10/dist-packages (from datasets) (17.0.0)\n",
      "Collecting dill<0.3.9,>=0.3.0 (from datasets)\n",
      "  Downloading dill-0.3.8-py3-none-any.whl.metadata (10 kB)\n",
      "Requirement already satisfied: pandas in /usr/local/lib/python3.10/dist-packages (from datasets) (2.2.2)\n",
      "Requirement already satisfied: requests>=2.32.2 in /usr/local/lib/python3.10/dist-packages (from datasets) (2.32.3)\n",
      "Requirement already satisfied: tqdm>=4.66.3 in /usr/local/lib/python3.10/dist-packages (from datasets) (4.66.6)\n",
      "Collecting xxhash (from datasets)\n",
      "  Downloading xxhash-3.5.0-cp310-cp310-manylinux_2_17_x86_64.manylinux2014_x86_64.whl.metadata (12 kB)\n",
      "Collecting multiprocess<0.70.17 (from datasets)\n",
      "  Downloading multiprocess-0.70.16-py310-none-any.whl.metadata (7.2 kB)\n",
      "Collecting fsspec<=2024.9.0,>=2023.1.0 (from fsspec[http]<=2024.9.0,>=2023.1.0->datasets)\n",
      "  Downloading fsspec-2024.9.0-py3-none-any.whl.metadata (11 kB)\n",
      "Requirement already satisfied: aiohttp in /usr/local/lib/python3.10/dist-packages (from datasets) (3.11.9)\n",
      "Requirement already satisfied: huggingface-hub>=0.23.0 in /usr/local/lib/python3.10/dist-packages (from datasets) (0.26.3)\n",
      "Requirement already satisfied: packaging in /usr/local/lib/python3.10/dist-packages (from datasets) (24.2)\n",
      "Requirement already satisfied: pyyaml>=5.1 in /usr/local/lib/python3.10/dist-packages (from datasets) (6.0.2)\n",
      "Requirement already satisfied: aiohappyeyeballs>=2.3.0 in /usr/local/lib/python3.10/dist-packages (from aiohttp->datasets) (2.4.4)\n",
      "Requirement already satisfied: aiosignal>=1.1.2 in /usr/local/lib/python3.10/dist-packages (from aiohttp->datasets) (1.3.1)\n",
      "Requirement already satisfied: async-timeout<6.0,>=4.0 in /usr/local/lib/python3.10/dist-packages (from aiohttp->datasets) (4.0.3)\n",
      "Requirement already satisfied: attrs>=17.3.0 in /usr/local/lib/python3.10/dist-packages (from aiohttp->datasets) (24.2.0)\n",
      "Requirement already satisfied: frozenlist>=1.1.1 in /usr/local/lib/python3.10/dist-packages (from aiohttp->datasets) (1.5.0)\n",
      "Requirement already satisfied: multidict<7.0,>=4.5 in /usr/local/lib/python3.10/dist-packages (from aiohttp->datasets) (6.1.0)\n",
      "Requirement already satisfied: propcache>=0.2.0 in /usr/local/lib/python3.10/dist-packages (from aiohttp->datasets) (0.2.1)\n",
      "Requirement already satisfied: yarl<2.0,>=1.17.0 in /usr/local/lib/python3.10/dist-packages (from aiohttp->datasets) (1.18.3)\n",
      "Requirement already satisfied: typing-extensions>=3.7.4.3 in /usr/local/lib/python3.10/dist-packages (from huggingface-hub>=0.23.0->datasets) (4.12.2)\n",
      "Requirement already satisfied: charset-normalizer<4,>=2 in /usr/local/lib/python3.10/dist-packages (from requests>=2.32.2->datasets) (3.4.0)\n",
      "Requirement already satisfied: idna<4,>=2.5 in /usr/local/lib/python3.10/dist-packages (from requests>=2.32.2->datasets) (3.10)\n",
      "Requirement already satisfied: urllib3<3,>=1.21.1 in /usr/local/lib/python3.10/dist-packages (from requests>=2.32.2->datasets) (2.2.3)\n",
      "Requirement already satisfied: certifi>=2017.4.17 in /usr/local/lib/python3.10/dist-packages (from requests>=2.32.2->datasets) (2024.8.30)\n",
      "Requirement already satisfied: python-dateutil>=2.8.2 in /usr/local/lib/python3.10/dist-packages (from pandas->datasets) (2.8.2)\n",
      "Requirement already satisfied: pytz>=2020.1 in /usr/local/lib/python3.10/dist-packages (from pandas->datasets) (2024.2)\n",
      "Requirement already satisfied: tzdata>=2022.7 in /usr/local/lib/python3.10/dist-packages (from pandas->datasets) (2024.2)\n",
      "Requirement already satisfied: six>=1.5 in /usr/local/lib/python3.10/dist-packages (from python-dateutil>=2.8.2->pandas->datasets) (1.16.0)\n",
      "Downloading datasets-3.2.0-py3-none-any.whl (480 kB)\n",
      "\u001b[2K   \u001b[90m━━━━━━━━━━━━━━━━━━━━━━━━━━━━━━━━━━━━━━━━\u001b[0m \u001b[32m480.6/480.6 kB\u001b[0m \u001b[31m14.4 MB/s\u001b[0m eta \u001b[36m0:00:00\u001b[0m\n",
      "\u001b[?25hDownloading dill-0.3.8-py3-none-any.whl (116 kB)\n",
      "\u001b[2K   \u001b[90m━━━━━━━━━━━━━━━━━━━━━━━━━━━━━━━━━━━━━━━━\u001b[0m \u001b[32m116.3/116.3 kB\u001b[0m \u001b[31m12.0 MB/s\u001b[0m eta \u001b[36m0:00:00\u001b[0m\n",
      "\u001b[?25hDownloading fsspec-2024.9.0-py3-none-any.whl (179 kB)\n",
      "\u001b[2K   \u001b[90m━━━━━━━━━━━━━━━━━━━━━━━━━━━━━━━━━━━━━━━━\u001b[0m \u001b[32m179.3/179.3 kB\u001b[0m \u001b[31m17.0 MB/s\u001b[0m eta \u001b[36m0:00:00\u001b[0m\n",
      "\u001b[?25hDownloading multiprocess-0.70.16-py310-none-any.whl (134 kB)\n",
      "\u001b[2K   \u001b[90m━━━━━━━━━━━━━━━━━━━━━━━━━━━━━━━━━━━━━━━━\u001b[0m \u001b[32m134.8/134.8 kB\u001b[0m \u001b[31m12.9 MB/s\u001b[0m eta \u001b[36m0:00:00\u001b[0m\n",
      "\u001b[?25hDownloading xxhash-3.5.0-cp310-cp310-manylinux_2_17_x86_64.manylinux2014_x86_64.whl (194 kB)\n",
      "\u001b[2K   \u001b[90m━━━━━━━━━━━━━━━━━━━━━━━━━━━━━━━━━━━━━━━━\u001b[0m \u001b[32m194.1/194.1 kB\u001b[0m \u001b[31m18.7 MB/s\u001b[0m eta \u001b[36m0:00:00\u001b[0m\n",
      "\u001b[?25hInstalling collected packages: xxhash, fsspec, dill, multiprocess, datasets\n",
      "  Attempting uninstall: fsspec\n",
      "    Found existing installation: fsspec 2024.10.0\n",
      "    Uninstalling fsspec-2024.10.0:\n",
      "      Successfully uninstalled fsspec-2024.10.0\n",
      "\u001b[31mERROR: pip's dependency resolver does not currently take into account all the packages that are installed. This behaviour is the source of the following dependency conflicts.\n",
      "gcsfs 2024.10.0 requires fsspec==2024.10.0, but you have fsspec 2024.9.0 which is incompatible.\u001b[0m\u001b[31m\n",
      "\u001b[0mSuccessfully installed datasets-3.2.0 dill-0.3.8 fsspec-2024.9.0 multiprocess-0.70.16 xxhash-3.5.0\n"
     ]
    }
   ],
   "source": [
    "!pip install datasets\n"
   ]
  },
  {
   "cell_type": "code",
   "execution_count": null,
   "metadata": {},
   "outputs": [
    {
     "name": "stderr",
     "output_type": "stream",
     "text": [
      "/usr/local/lib/python3.10/dist-packages/huggingface_hub/utils/_auth.py:94: UserWarning: \n",
      "The secret `HF_TOKEN` does not exist in your Colab secrets.\n",
      "To authenticate with the Hugging Face Hub, create a token in your settings tab (https://huggingface.co/settings/tokens), set it as secret in your Google Colab and restart your session.\n",
      "You will be able to reuse this secret in all of your notebooks.\n",
      "Please note that authentication is recommended but still optional to access public models or datasets.\n",
      "  warnings.warn(\n"
     ]
    },
    {
     "data": {
      "application/vnd.jupyter.widget-view+json": {
       "model_id": "ff27bbbe7a5b4dc0a60543690d0c6948",
       "version_major": 2,
       "version_minor": 0
      },
      "text/plain": [
       "README.md:   0%|          | 0.00/6.24k [00:00<?, ?B/s]"
      ]
     },
     "metadata": {},
     "output_type": "display_data"
    },
    {
     "data": {
      "application/vnd.jupyter.widget-view+json": {
       "model_id": "bf0e347b88a24c4cb1b9b968b7fc6782",
       "version_major": 2,
       "version_minor": 0
      },
      "text/plain": [
       "xsum.py:   0%|          | 0.00/5.76k [00:00<?, ?B/s]"
      ]
     },
     "metadata": {},
     "output_type": "display_data"
    },
    {
     "data": {
      "application/vnd.jupyter.widget-view+json": {
       "model_id": "3ef25fdf7baa4a78b7a08c4bf5921c23",
       "version_major": 2,
       "version_minor": 0
      },
      "text/plain": [
       "0000.parquet:   0%|          | 0.00/304M [00:00<?, ?B/s]"
      ]
     },
     "metadata": {},
     "output_type": "display_data"
    },
    {
     "data": {
      "application/vnd.jupyter.widget-view+json": {
       "model_id": "f1a097b9bc844be4b836e15fa73c4f6f",
       "version_major": 2,
       "version_minor": 0
      },
      "text/plain": [
       "0000.parquet:   0%|          | 0.00/16.7M [00:00<?, ?B/s]"
      ]
     },
     "metadata": {},
     "output_type": "display_data"
    },
    {
     "data": {
      "application/vnd.jupyter.widget-view+json": {
       "model_id": "a3e0b524e83f431abdd511ad68e27a74",
       "version_major": 2,
       "version_minor": 0
      },
      "text/plain": [
       "0000.parquet:   0%|          | 0.00/17.0M [00:00<?, ?B/s]"
      ]
     },
     "metadata": {},
     "output_type": "display_data"
    },
    {
     "data": {
      "application/vnd.jupyter.widget-view+json": {
       "model_id": "9c69efd3860042f599201082d248b8c6",
       "version_major": 2,
       "version_minor": 0
      },
      "text/plain": [
       "Generating train split:   0%|          | 0/204045 [00:00<?, ? examples/s]"
      ]
     },
     "metadata": {},
     "output_type": "display_data"
    },
    {
     "data": {
      "application/vnd.jupyter.widget-view+json": {
       "model_id": "868ea27d8ee04cc38e7d0f908d4b3de2",
       "version_major": 2,
       "version_minor": 0
      },
      "text/plain": [
       "Generating validation split:   0%|          | 0/11332 [00:00<?, ? examples/s]"
      ]
     },
     "metadata": {},
     "output_type": "display_data"
    },
    {
     "data": {
      "application/vnd.jupyter.widget-view+json": {
       "model_id": "ba2982e1feeb4a068fd09b829b57ab67",
       "version_major": 2,
       "version_minor": 0
      },
      "text/plain": [
       "Generating test split:   0%|          | 0/11334 [00:00<?, ? examples/s]"
      ]
     },
     "metadata": {},
     "output_type": "display_data"
    }
   ],
   "source": [
    "import random\n",
    "from datasets import load_dataset\n",
    "from collections import Counter\n",
    "import string\n",
    "\n",
    "# Load the dataset\n",
    "dataset = load_dataset(\"EdinburghNLP/xsum\")\n",
    "\n",
    "# Use only 30% for training and 10% for validation\n",
    "train_size = int(0.3 * len(dataset['train']))\n",
    "val_size = int(0.1 * len(dataset['validation']))\n",
    "\n",
    "train_data = dataset['train'].select(random.sample(range(len(dataset['train'])), train_size))\n",
    "val_data = dataset['validation'].select(random.sample(range(len(dataset['validation'])), val_size))\n",
    "\n",
    "# Tokenizer function\n",
    "def tokenize(text):\n",
    "    text = text.lower()  # Convert to lowercase\n",
    "    text = text.translate(str.maketrans('', '', string.punctuation))  # Remove punctuation\n",
    "    tokens = text.split()  # Split by white-space\n",
    "    return tokens\n"
   ]
  },
  {
   "cell_type": "markdown",
   "metadata": {},
   "source": [
    "## Step 2: Vocabulary Building"
   ]
  },
  {
   "cell_type": "code",
   "execution_count": null,
   "metadata": {},
   "outputs": [],
   "source": [
    "class Vocabulary:\n",
    "    def __init__(self, cutoff=10):\n",
    "        self.token_to_id = {}\n",
    "        self.id_to_token = {}\n",
    "        self.cutoff = cutoff\n",
    "        self.special_tokens = ['<pad>', '<unk>', '<s>', '</s>']\n",
    "\n",
    "    def build_vocab(self, tokenized_texts):\n",
    "        # Count tokens\n",
    "        counter = Counter(token for text in tokenized_texts for token in text)\n",
    "\n",
    "        # Add special tokens\n",
    "        for token in self.special_tokens:\n",
    "            self.token_to_id[token] = len(self.token_to_id)\n",
    "\n",
    "        # Add tokens based on cutoff\n",
    "        for token, freq in counter.items():\n",
    "            if freq >= self.cutoff:\n",
    "                self.token_to_id[token] = len(self.token_to_id)\n",
    "\n",
    "        # Reverse mapping\n",
    "        self.id_to_token = {v: k for k, v in self.token_to_id.items()}\n",
    "\n",
    "    def token_to_id_mapping(self, token):\n",
    "        return self.token_to_id.get(token, self.token_to_id['<unk>'])\n",
    "\n",
    "    def id_to_token_mapping(self, token_id):\n",
    "        return self.id_to_token.get(token_id, '<unk>')\n",
    "\n",
    "    def vocab_size(self):\n",
    "        return len(self.token_to_id)\n",
    "\n",
    "# Build Vocabulary using training set\n",
    "train_texts = [tokenize(item['document']) for item in train_data]\n",
    "vocab = Vocabulary(cutoff=10)\n",
    "vocab.build_vocab(train_texts)\n"
   ]
  },
  {
   "cell_type": "markdown",
   "metadata": {},
   "source": [
    "## Step 3: Example Output"
   ]
  },
  {
   "cell_type": "code",
   "execution_count": null,
   "metadata": {},
   "outputs": [
    {
     "name": "stdout",
     "output_type": "stream",
     "text": [
      "Vocabulary Size: 48001\n",
      "Token ID for '<pad>': 0\n",
      "ID for 'quick': 5547\n",
      "Token for ID 0: <pad>\n"
     ]
    }
   ],
   "source": [
    "# Display vocabulary details\n",
    "print(\"Vocabulary Size:\", vocab.vocab_size())\n",
    "print(\"Token ID for '<pad>':\", vocab.token_to_id_mapping('<pad>'))\n",
    "print(\"ID for 'quick':\", vocab.token_to_id_mapping('quick'))\n",
    "print(\"Token for ID 0:\", vocab.id_to_token_mapping(0))\n"
   ]
  },
  {
   "cell_type": "markdown",
   "metadata": {},
   "source": [
    "<div dir=\"rtl\" style=\"font-family: Vazir; width: 85%; font-size: 16px\">\n",
    "\n",
    "*د*\n",
    "---\n"
   ]
  },
  {
   "cell_type": "markdown",
   "metadata": {},
   "source": [
    "## Step 1 & 2: Load GloVe Embeddings and Build the Embedding Matrix"
   ]
  },
  {
   "cell_type": "code",
   "execution_count": null,
   "metadata": {},
   "outputs": [],
   "source": [
    "# Download GloVe embeddings in Colab\n",
    "!wget http://nlp.stanford.edu/data/glove.6B.zip\n",
    "!unzip glove.6B.zip -d glove.6B/\n"
   ]
  },
  {
   "cell_type": "code",
   "execution_count": null,
   "metadata": {},
   "outputs": [
    {
     "name": "stdout",
     "output_type": "stream",
     "text": [
      "Embedding for 'mf' (ID 39066): [-0.41892999 -0.096534    0.47202    -1.02119994 -0.014743   -0.91459\n",
      "  0.21323    -0.75681001 -1.14549994  0.71893001  0.68309999  0.040985\n",
      " -0.10417     0.10638     0.82459003 -0.37849    -0.19964001 -0.69199997\n",
      " -0.12847     0.27182999 -0.10604    -0.015104    0.074401    0.60229999\n",
      "  0.071022    0.70740998 -0.059076    0.50520003 -0.096826    1.40750003\n",
      " -0.20749     0.24137001 -0.53254998  1.06470001 -0.84416997 -0.33949\n",
      "  0.10153     0.068468    0.73210001 -0.28716999  0.10753     0.016682\n",
      " -1.00549996 -0.46233001 -0.55745     0.23919    -0.065444   -0.11947\n",
      " -0.97662002  0.18553001 -0.62748998  0.045587   -0.81155998 -0.86892003\n",
      "  0.096134   -0.23885     0.30666     0.14357001 -0.71078998  0.13593\n",
      "  0.12328     0.011062   -0.72264999  0.036916   -0.37283999  0.11319\n",
      "  0.054581   -0.24167     0.74896997 -0.33096001  0.033606   -0.18897\n",
      " -0.13       -0.24790999 -0.45680001 -1.21379995  0.56896001 -0.38801\n",
      " -1.04299998 -1.17369998  0.51431    -0.62588     0.35187    -0.010828\n",
      "  0.67417002 -0.063609    0.21349999 -0.45592999  0.16058999 -0.25431001\n",
      " -0.53681999  0.89766997  0.47077999 -0.27362001  0.38988     0.63020003\n",
      "  0.048819    0.30090001 -0.95011002  0.011684  ]\n",
      "Embedding for 'mehefin' (ID 44726): [-8.18084008e-01  1.28558149e+00 -5.82636147e-01 -6.41017719e-01\n",
      " -8.69268041e-03  1.46814030e+00  7.74126973e-02  3.52786698e-01\n",
      "  4.31828320e-01  8.44548444e-01 -1.36052717e+00 -1.22746089e+00\n",
      "  2.57348460e-01  4.29350188e-01 -9.29386095e-01 -6.18481227e-01\n",
      "  1.35737152e+00 -1.44908725e+00  5.10275789e-01 -2.52417154e-01\n",
      " -5.77963674e-01 -1.04380887e-01 -4.05536376e-01  2.64844669e-01\n",
      " -1.49941368e+00 -2.26097120e-01  1.16556414e+00  7.03438966e-01\n",
      " -1.44808670e+00  1.89570735e-02 -1.71677089e+00  2.81649697e-01\n",
      " -2.58000847e-01  6.91520027e-01  2.23051530e-01 -9.54348294e-01\n",
      "  1.80749481e-01  6.14023207e-01  8.55150403e-01 -3.74245510e-01\n",
      "  8.28777202e-01  1.78843819e+00 -8.30495264e-02  7.31931045e-01\n",
      " -1.16522608e-03  3.80926210e-01 -2.02849378e+00 -5.55529832e-01\n",
      "  2.17979920e+00  4.83799425e-01 -3.25628738e-01 -8.64705711e-01\n",
      " -4.90380548e-01  2.51736568e-01  6.84286824e-01 -7.49331200e-01\n",
      "  1.15836663e-01  1.66608604e+00 -1.17060139e-01  8.99444156e-01\n",
      "  3.91788879e-01  7.97947375e-01 -4.29301514e-03  6.85883455e-01\n",
      " -5.10427723e-01 -1.58559489e+00 -1.13127410e+00 -3.74058772e-01\n",
      " -4.11026726e-02  1.60134622e+00  1.20819476e+00  1.02842964e+00\n",
      "  7.32628233e-01 -1.57980640e+00  4.11994518e-01 -7.51300447e-01\n",
      " -1.19734370e+00  7.96242387e-01 -5.17699445e-02 -1.11428403e+00\n",
      " -3.47713316e-01  1.20616845e+00 -2.38987101e-01 -3.26252450e-01\n",
      "  1.38348071e+00 -1.19314335e+00  7.86165995e-01  5.13106534e-01\n",
      " -3.23269574e+00  9.30783288e-01  1.12388986e+00  6.57011875e-02\n",
      " -1.01417298e+00  3.77018067e-01 -2.57006223e-01  1.64023533e-01\n",
      "  1.60228401e+00 -1.13085242e-01  2.88419194e-01  7.41807428e-01]\n",
      "Embedding for 'christie' (ID 11450): [ 0.46215001 -0.47869     0.51542997 -0.70345002  0.65916002 -0.19845\n",
      "  0.23776001  0.56160998 -0.61216003 -0.19322     0.0038551   0.45864001\n",
      " -0.46487999 -0.079188   -0.80598003  0.064327    0.097151    0.68181998\n",
      " -0.54281002  0.27274001  0.064931    0.0063989   0.65867001 -0.13463999\n",
      "  0.96498001 -0.069916    0.22847    -0.13096    -0.77095997 -0.34448001\n",
      " -0.22395    -0.15424     0.53026003  0.081426   -0.0035694   0.23198\n",
      " -0.29936001 -0.14831001 -0.40158999  0.44297999  0.1858     -0.27864999\n",
      " -0.3362     -0.084614   -0.66613001  0.24151    -0.90877998 -1.22800004\n",
      "  0.42802    -0.23746     1.37199998 -0.12366     0.39093    -0.62616998\n",
      " -0.26585001 -1.44640005 -0.62752998  0.23975    -0.31819999  0.32361001\n",
      "  0.28306001  0.14415    -0.14636999  1.16209996  0.48567    -0.24415\n",
      " -0.007553    0.92411    -0.018709   -0.1194     -0.40283999 -0.070955\n",
      " -0.36950999  0.76021999  0.066683   -1.10749996 -0.26808     0.0092084\n",
      " -1.28050005 -0.46265    -0.16406     0.32018     0.29929    -0.51555997\n",
      "  0.162      -0.41299999 -0.40009999  0.50753999 -0.46434999 -0.73236001\n",
      "  0.45302001 -0.33601999  0.74861002 -0.29464999 -0.71859998  0.032137\n",
      " -0.57268     0.31838    -0.13394    -0.22046   ]\n"
     ]
    }
   ],
   "source": [
    "import numpy as np\n",
    "\n",
    "class GloveEmbeddings:\n",
    "    def __init__(self, glove_path, vocab, embedding_dim=100):\n",
    "        self.glove_path = glove_path\n",
    "        self.vocab = vocab\n",
    "        self.embedding_dim = embedding_dim\n",
    "        self.embedding_matrix = None\n",
    "\n",
    "    def load_glove_vectors(self):\n",
    "        glove_vectors = {}\n",
    "        with open(self.glove_path, 'r', encoding='utf-8') as f:\n",
    "            for line in f:\n",
    "                values = line.split()\n",
    "                word = values[0]\n",
    "                vector = np.asarray(values[1:], dtype='float32')\n",
    "                glove_vectors[word] = vector\n",
    "        return glove_vectors\n",
    "\n",
    "    def build_embedding_matrix(self):\n",
    "        glove_vectors = self.load_glove_vectors()\n",
    "        vocab_size = self.vocab.vocab_size()\n",
    "        self.embedding_matrix = np.zeros((vocab_size, self.embedding_dim))  # Initialize with zeros\n",
    "\n",
    "        for token, idx in self.vocab.token_to_id.items():\n",
    "            if token in glove_vectors:\n",
    "                self.embedding_matrix[idx] = glove_vectors[token]\n",
    "            elif token in self.vocab.special_tokens:  # Special tokens remain zero\n",
    "                continue\n",
    "            else:\n",
    "                self.embedding_matrix[idx] = np.random.normal(size=(self.embedding_dim,))  # Random for OOV tokens\n",
    "\n",
    "        return self.embedding_matrix\n",
    "\n",
    "# Path to the GloVe embeddings file\n",
    "glove_path = \"/content/drive/MyDrive/glove.6B/glove.6B.100d.txt\"\n",
    "\n",
    "# Create embedding object and build the matrix\n",
    "glove_embeddings = GloveEmbeddings(glove_path, vocab, embedding_dim=100)\n",
    "embedding_matrix = glove_embeddings.build_embedding_matrix()\n",
    "\n",
    "# Print the embedding for three randomly chosen words\n",
    "random_words = random.sample(list(vocab.token_to_id.keys()), 3)\n",
    "for word in random_words:\n",
    "    word_id = vocab.token_to_id_mapping(word)\n",
    "    print(f\"Embedding for '{word}' (ID {word_id}): {embedding_matrix[word_id]}\")\n"
   ]
  },
  {
   "cell_type": "markdown",
   "metadata": {},
   "source": [
    "<div dir=\"rtl\" style=\"font-family: Vazir; width: 85%; font-size: 16px\">\n",
    "\n",
    "\n",
    "*بخش اول:*\n",
    "---"
   ]
  },
  {
   "cell_type": "markdown",
   "metadata": {},
   "source": [
    "## Step 1: Define Dataset and Collate Function"
   ]
  },
  {
   "cell_type": "code",
   "execution_count": null,
   "metadata": {},
   "outputs": [],
   "source": [
    "  import torch\n",
    "  from torch.utils.data import Dataset, DataLoader\n",
    "\n",
    "  class SummarizationDataset(Dataset):\n",
    "      def __init__(self, data, vocab):\n",
    "          self.data = data\n",
    "          self.vocab = vocab\n",
    "\n",
    "      def __len__(self):\n",
    "          return len(self.data)\n",
    "\n",
    "      def __getitem__(self, idx):\n",
    "          document = self.data[idx]['document']\n",
    "          summary = self.data[idx]['summary']\n",
    "          doc_tokens = [self.vocab.token_to_id_mapping(token) for token in tokenize(document)]\n",
    "          summary_tokens = [self.vocab.token_to_id_mapping(token) for token in tokenize(summary)]\n",
    "          return torch.tensor(doc_tokens), torch.tensor(summary_tokens)\n",
    "\n",
    "\n",
    "def collate_fn(batch):\n",
    "    # Extract documents and summaries\n",
    "    documents, summaries = zip(*batch)\n",
    "\n",
    "    # Ensure documents and summaries are PyTorch tensors\n",
    "    documents = [doc.clone().detach() if isinstance(doc, torch.Tensor) else torch.tensor(doc) for doc in documents]\n",
    "    summaries = [sum.clone().detach() if isinstance(sum, torch.Tensor) else torch.tensor(sum) for sum in summaries]\n",
    "\n",
    "    # Calculate average lengths for the batch\n",
    "    avg_doc_length = int(sum([len(doc) for doc in documents]) / len(documents))\n",
    "    avg_sum_length = int(sum([len(sum) for sum in summaries]) / len(summaries))\n",
    "\n",
    "    # Trim sequences to the average length or pad to the average length\n",
    "    def trim_or_pad(sequences, target_length, padding_value):\n",
    "        trimmed_or_padded = []\n",
    "        for seq in sequences:\n",
    "            if len(seq) > target_length:\n",
    "                trimmed_or_padded.append(seq[:target_length])  # Trim to target length\n",
    "            else:\n",
    "                # Pad to target length\n",
    "                padding = torch.full((target_length - len(seq),), padding_value, dtype=torch.long)\n",
    "                trimmed_or_padded.append(torch.cat((seq, padding)))\n",
    "        return torch.stack(trimmed_or_padded)\n",
    "\n",
    "    documents_padded = trim_or_pad(documents, avg_doc_length, vocab.token_to_id_mapping('<pad>'))\n",
    "    summaries_padded = trim_or_pad(summaries, avg_sum_length, vocab.token_to_id_mapping('<pad>'))\n",
    "\n",
    "    # Create masks\n",
    "    documents_mask = (documents_padded != vocab.token_to_id_mapping('<pad>')).float()\n",
    "    summaries_mask = (summaries_padded != vocab.token_to_id_mapping('<pad>')).float()\n",
    "\n",
    "    return documents_padded, summaries_padded, documents_mask, summaries_mask\n"
   ]
  },
  {
   "cell_type": "markdown",
   "metadata": {},
   "source": [
    "## Step 2: Create Dataset and DataLoader"
   ]
  },
  {
   "cell_type": "code",
   "execution_count": null,
   "metadata": {},
   "outputs": [],
   "source": [
    "# Create Dataset\n",
    "train_dataset = SummarizationDataset(train_data, vocab)\n",
    "val_dataset = SummarizationDataset(val_data, vocab)\n",
    "\n",
    "# Create DataLoader\n",
    "batch_size = 32\n",
    "train_loader = DataLoader(train_dataset, batch_size=batch_size, shuffle=True, collate_fn=collate_fn)\n",
    "val_loader = DataLoader(val_dataset, batch_size=batch_size, shuffle=False, collate_fn=collate_fn)\n"
   ]
  },
  {
   "cell_type": "markdown",
   "metadata": {},
   "source": [
    "<div dir=\"rtl\" style=\"font-family: Vazir; width: 85%; font-size: 16px\">\n",
    "\n",
    "\n",
    "*بخش دوم:*\n",
    "---"
   ]
  },
  {
   "cell_type": "markdown",
   "metadata": {},
   "source": [
    "## Step 1: Define the Model"
   ]
  },
  {
   "cell_type": "code",
   "execution_count": null,
   "metadata": {},
   "outputs": [],
   "source": [
    "import torch.nn as nn\n",
    "import torch.optim as optim\n",
    "\n",
    "class Encoder(nn.Module):\n",
    "    def __init__(self, vocab_size, embedding_size, hidden_size, embedding_matrix):\n",
    "        super(Encoder, self).__init__()\n",
    "        self.embedding = nn.Embedding(vocab_size, embedding_size)\n",
    "        self.embedding.weight.data.copy_(torch.tensor(embedding_matrix, dtype=torch.float32))\n",
    "        self.embedding.weight.requires_grad = False  # Freeze embedding weights\n",
    "        # self.gru = nn.GRU(embedding_size, hidden_size, batch_first=True, bidirectional=True)\n",
    "        self.gru = nn.GRU(embedding_size, hidden_size, batch_first=True, bidirectional=True, dropout=0.4)\n",
    "        self.batch_norm = nn.BatchNorm1d(embedding_size)\n",
    "\n",
    "        for name, param in self.gru.named_parameters():\n",
    "            if 'weight' in name:\n",
    "                torch.nn.init.xavier_uniform_(param)\n",
    "            elif 'bias' in name:\n",
    "                torch.nn.init.zeros_(param)\n",
    "\n",
    "\n",
    "    def forward(self, x, mask):\n",
    "        x = x.to(self.embedding.weight.device).long()  # Ensure x is on the same device as the embedding layer\n",
    "        embedded = self.embedding(x)  # (batch_size, seq_len, embedding_size)\n",
    "        embedded = self.batch_norm(embedded.transpose(1, 2)).transpose(1, 2)\n",
    "        outputs, hidden = self.gru(embedded)  # outputs: (batch_size, seq_len, 2*hidden_size)\n",
    "        return outputs, hidden  # hidden: (2, batch_size, hidden_size)\n",
    "\n",
    "\n",
    "class Attention(nn.Module):\n",
    "    def __init__(self, hidden_size):\n",
    "        super(Attention, self).__init__()\n",
    "        self.attn = nn.Linear(hidden_size * 3, hidden_size)\n",
    "        self.v = nn.Parameter(torch.rand(hidden_size))  # Remains a Parameter\n",
    "\n",
    "    def forward(self, hidden, encoder_outputs, mask):\n",
    "        device = encoder_outputs.device  # Get the device of encoder outputs\n",
    "        hidden = hidden.to(device)\n",
    "        mask = mask.to(device)\n",
    "        self.attn = self.attn.to(device)\n",
    "        # self.v = self.v.to(device)\n",
    "\n",
    "        # Use the last layer of the decoder's hidden state\n",
    "        hidden = hidden[-1].unsqueeze(1)  # (batch_size, 1, hidden_size)\n",
    "\n",
    "        # Repeat hidden across the sequence length for concatenation\n",
    "        hidden_repeated = hidden.repeat(1, encoder_outputs.size(1), 1)  # (batch_size, seq_len, hidden_size)\n",
    "\n",
    "        # Concatenate hidden and encoder outputs\n",
    "        energy = torch.tanh(self.attn(torch.cat((hidden_repeated, encoder_outputs), dim=2))).to(self.v.device)  # (batch_size, seq_len, hidden_size)\n",
    "\n",
    "        # Compute attention scores\n",
    "        energy = torch.sum(energy * self.v, dim=2).to(device)  # (batch_size, seq_len)\n",
    "        energy = energy.masked_fill(mask == 0, -1e10)  # Apply mask\n",
    "\n",
    "        # Compute attention weights\n",
    "        attention_weights = torch.nn.functional.softmax(energy, dim=1)  # (batch_size, seq_len)\n",
    "\n",
    "        # Compute context vector\n",
    "        context = torch.sum(encoder_outputs * attention_weights.unsqueeze(2), dim=1)  # (batch_size, 2 * hidden_size)\n",
    "\n",
    "        return context, attention_weights\n",
    "\n",
    "\n",
    "class Decoder(nn.Module):\n",
    "    def __init__(self, vocab_size, embedding_size, hidden_size, embedding_matrix):\n",
    "        super(Decoder, self).__init__()\n",
    "        self.embedding = nn.Embedding(vocab_size, embedding_size)\n",
    "        self.embedding.weight.data.copy_(torch.tensor(embedding_matrix, dtype=torch.float32))\n",
    "        self.embedding.weight.requires_grad = False  # Freeze embedding weights\n",
    "        self.gru = nn.GRU(embedding_size + hidden_size * 2, hidden_size, batch_first=True, dropout=0.4)\n",
    "        self.batch_norm = nn.BatchNorm1d(embedding_size)\n",
    "        for name, param in self.gru.named_parameters():\n",
    "            if 'weight' in name:\n",
    "                torch.nn.init.xavier_uniform_(param)\n",
    "            elif 'bias' in name:\n",
    "                torch.nn.init.zeros_(param)\n",
    "\n",
    "        self.fc = nn.Linear(hidden_size * 3, vocab_size)\n",
    "        self.attention = Attention(hidden_size)\n",
    "\n",
    "    def forward(self, x, hidden, encoder_outputs, mask):\n",
    "        x = x.to(self.embedding.weight.device).long()  # Ensure x is on the same device as the embedding layer\n",
    "        embedded = self.embedding(x)  # (batch_size, embedding_size)\n",
    "\n",
    "        # Fix: Add sequence length dimension\n",
    "        embedded = embedded.unsqueeze(1)  # (batch_size, 1, embedding_size)\n",
    "        embedded = self.batch_norm(embedded.transpose(1, 2)).transpose(1, 2)\n",
    "\n",
    "        context, _ = self.attention(hidden, encoder_outputs, mask)\n",
    "\n",
    "        # Concatenate embedded and context tensors\n",
    "        rnn_input = torch.cat((embedded, context.unsqueeze(1)), dim=2)  # (batch_size, 1, embedding_size + 2 * hidden_size)\n",
    "\n",
    "        outputs, hidden = self.gru(rnn_input, hidden)\n",
    "        logits = self.fc(torch.cat((outputs.squeeze(1), context), dim=1))  # (batch_size, vocab_size)\n",
    "        return logits, hidden\n"
   ]
  },
  {
   "cell_type": "markdown",
   "metadata": {},
   "source": [
    "## Step 3: Hyperparameters"
   ]
  },
  {
   "cell_type": "code",
   "execution_count": null,
   "metadata": {},
   "outputs": [
    {
     "name": "stderr",
     "output_type": "stream",
     "text": [
      "/usr/local/lib/python3.10/dist-packages/torch/utils/data/dataloader.py:617: UserWarning: This DataLoader will create 4 worker processes in total. Our suggested max number of worker in current system is 2, which is smaller than what this DataLoader is going to create. Please be aware that excessive worker creation might get DataLoader running slow or even freeze, lower the worker number to avoid potential slowness/freeze if necessary.\n",
      "  warnings.warn(\n",
      "/usr/local/lib/python3.10/dist-packages/torch/nn/modules/rnn.py:123: UserWarning: dropout option adds dropout after all but last recurrent layer, so non-zero dropout expects num_layers greater than 1, but got dropout=0.4 and num_layers=1\n",
      "  warnings.warn(\n"
     ]
    }
   ],
   "source": [
    "# Hyperparameters\n",
    "embedding_size = 100\n",
    "hidden_size = 100\n",
    "batch_size = 32\n",
    "num_epochs = 10\n",
    "learning_rate = 1e-5\n",
    "device = torch.device('cuda' if torch.cuda.is_available() else 'cpu')\n",
    "\n",
    "train_loader = DataLoader(train_dataset, batch_size=batch_size, shuffle=True, collate_fn=collate_fn, num_workers=4)\n",
    "val_loader = DataLoader(val_dataset, batch_size=batch_size, shuffle=False, collate_fn=collate_fn, num_workers=4)\n",
    "\n",
    "# Model Initialization\n",
    "vocab_size = vocab.vocab_size()\n",
    "encoder = Encoder(vocab_size, embedding_size, hidden_size, embedding_matrix)\n",
    "attention = Attention(hidden_size)\n",
    "decoder = Decoder(vocab_size, embedding_size, hidden_size, embedding_matrix)\n"
   ]
  },
  {
   "cell_type": "markdown",
   "metadata": {},
   "source": [
    "# PArt 5"
   ]
  },
  {
   "cell_type": "markdown",
   "metadata": {},
   "source": [
    "## Step 1: Define Inference Function"
   ]
  },
  {
   "cell_type": "code",
   "execution_count": null,
   "metadata": {},
   "outputs": [],
   "source": [
    "def top_k_sampling(logits, k=5):\n",
    "    \"\"\"\n",
    "    Perform top-k sampling from the logits.\n",
    "\n",
    "    Parameters:\n",
    "    - logits: Tensor of shape (vocab_size,)\n",
    "    - k: int, number of top tokens to consider for sampling\n",
    "\n",
    "    Returns:\n",
    "    - Selected token ID\n",
    "    \"\"\"\n",
    "    # Get the top-k logits and their indices\n",
    "    top_k_logits, top_k_indices = torch.topk(logits, k)\n",
    "\n",
    "    # Apply softmax to the top-k logits for probabilities\n",
    "    top_k_probs = torch.softmax(top_k_logits, dim=-1)\n",
    "\n",
    "    # Sample from the top-k probabilities\n",
    "    sampled_index = top_k_indices[torch.multinomial(top_k_probs, num_samples=1)].item()\n",
    "    return sampled_index\n",
    "\n",
    "\n",
    "def generate_summary(encoder, decoder, document, document_mask, vocab, max_len=50, k=5):\n",
    "\n",
    "    encoder.eval()\n",
    "    decoder.eval()\n",
    "\n",
    "    with torch.no_grad():\n",
    "        # Pass through encoder\n",
    "        encoder_outputs, hidden = encoder(document, document_mask)\n",
    "        decoder_input = torch.full(\n",
    "            (document.size(0),), vocab.token_to_id_mapping('<s>'), device=document.device, dtype=torch.long\n",
    "        )\n",
    "        decoder_hidden = hidden[:1]  # Use the forward GRU output from bidirectional GRU\n",
    "\n",
    "        generated_tokens = []\n",
    "\n",
    "        for _ in range(max_len):\n",
    "            decoder_logits, decoder_hidden = decoder(decoder_input, decoder_hidden, encoder_outputs, document_mask)\n",
    "            logits = decoder_logits.squeeze(0)  # Assuming batch size of 1\n",
    "\n",
    "            # Apply top-k sampling\n",
    "            decoder_input = torch.tensor([top_k_sampling(logits, k)], device=document.device, dtype=torch.long)\n",
    "\n",
    "            generated_tokens.append(decoder_input.item())\n",
    "\n",
    "            if decoder_input.item() == vocab.token_to_id_mapping('</s>'):  # Stop if end token is generated\n",
    "                break\n",
    "\n",
    "        # Convert IDs back to tokens\n",
    "        generated_summary = [\n",
    "            vocab.id_to_token_mapping(token) for token in generated_tokens if token not in [vocab.token_to_id_mapping('<pad>')]\n",
    "        ]\n",
    "        return \" \".join(generated_summary)\n"
   ]
  },
  {
   "cell_type": "markdown",
   "metadata": {},
   "source": [
    "## Step 2: Generate Summaries for Fixed Samples"
   ]
  },
  {
   "cell_type": "code",
   "execution_count": null,
   "metadata": {},
   "outputs": [],
   "source": [
    "def validate_and_print_summaries(encoder, decoder, val_loader, vocab, epoch, device, num_samples=3):\n",
    "    encoder.to(device)\n",
    "    decoder.to(device)\n",
    "\n",
    "    fixed_samples = []\n",
    "    for i, (documents, summaries, document_masks, summary_masks) in enumerate(val_loader):\n",
    "        documents = documents.to(device)\n",
    "        document_masks = document_masks.to(device)\n",
    "\n",
    "        # Select the first `num_samples` documents from the batch\n",
    "        for j in range(min(num_samples, documents.size(0))):\n",
    "            fixed_samples.append((documents[j].unsqueeze(0), document_masks[j].unsqueeze(0)))\n",
    "        break  # Use only the first batch\n",
    "\n",
    "    print(f\"\\nSummaries at Epoch {epoch + 1}:\\n\")\n",
    "    for i, (document, document_mask) in enumerate(fixed_samples):\n",
    "        generated_summary = generate_summary(encoder, decoder, document, document_mask, vocab)\n",
    "        print(f\"Sample {i + 1}:\")\n",
    "        print(f\"Generated Summary: {generated_summary}\")\n",
    "        print(\"---\")\n"
   ]
  },
  {
   "cell_type": "markdown",
   "metadata": {},
   "source": [
    "## Step 3: Install ROUGE Library\n",
    "\n",
    "ROUGE (Recall-Oriented Understudy for Gisting Evaluation) is a set of metrics commonly used in **Natural Language Processing (NLP)** to evaluate the quality of text summaries or generated content by comparing them to reference texts. It measures the overlap between the generated text and the reference text based on n-grams, word sequences, and longest common subsequences.\n",
    "\n",
    "### Key ROUGE Metrics:\n",
    "1. **ROUGE-N**:\n",
    "   - Measures the overlap of **n-grams** (e.g., unigrams, bigrams).\n",
    "   - Example: ROUGE-1 (unigrams), ROUGE-2 (bigrams).\n",
    "   - **Formula**:\n",
    "     ROUGE-N = Overlapping n-grams in candidate and reference / Total n-grams in reference\n",
    "     \n",
    "\n",
    "2. **ROUGE-L**:\n",
    "   - Measures the **longest common subsequence (LCS)** between the candidate and reference text.\n",
    "   - Captures fluency and sequence similarity.\n",
    "\n",
    "3. **ROUGE-W**:\n",
    "   - Weighted variant of ROUGE-L that considers the importance of long contiguous subsequences.\n",
    "\n",
    "4. **ROUGE-S**:\n",
    "   - Measures skip-bigram overlap, allowing non-consecutive matching of word pairs.\n"
   ]
  },
  {
   "cell_type": "code",
   "execution_count": null,
   "metadata": {},
   "outputs": [
    {
     "name": "stdout",
     "output_type": "stream",
     "text": [
      "Collecting rouge\n",
      "  Downloading rouge-1.0.1-py3-none-any.whl.metadata (4.1 kB)\n",
      "Requirement already satisfied: six in /usr/local/lib/python3.10/dist-packages (from rouge) (1.16.0)\n",
      "Downloading rouge-1.0.1-py3-none-any.whl (13 kB)\n",
      "Installing collected packages: rouge\n",
      "Successfully installed rouge-1.0.1\n"
     ]
    }
   ],
   "source": [
    "!pip install rouge\n"
   ]
  },
  {
   "cell_type": "markdown",
   "metadata": {},
   "source": [
    "## Step 4: Evaluate Model and Plot Results"
   ]
  },
  {
   "cell_type": "code",
   "execution_count": null,
   "metadata": {},
   "outputs": [],
   "source": [
    "# Function to plot metrics\n",
    "def plot_metrics(train_losses, val_losses, train_rouge, val_rouge, epochs):\n",
    "    plt.figure(figsize=(12, 6))\n",
    "\n",
    "    # Plot Loss\n",
    "    plt.subplot(1, 2, 1)\n",
    "    plt.plot(range(1, epochs + 1), train_losses, label=\"Training Loss\")\n",
    "    plt.plot(range(1, epochs + 1), val_losses, label=\"Validation Loss\")\n",
    "    plt.title(\"Loss vs Epochs\")\n",
    "    plt.xlabel(\"Epochs\")\n",
    "    plt.ylabel(\"Loss\")\n",
    "    plt.legend()\n",
    "    plt.grid(True)\n",
    "\n",
    "    # Plot ROUGE-L\n",
    "    plt.subplot(1, 2, 2)\n",
    "    plt.plot(range(1, epochs + 1), train_rouge, label=\"Training ROUGE-L\")\n",
    "    plt.plot(range(1, epochs + 1), val_rouge, label=\"Validation ROUGE-L\")\n",
    "    plt.title(\"ROUGE-L vs Epochs\")\n",
    "    plt.xlabel(\"Epochs\")\n",
    "    plt.ylabel(\"ROUGE-L Score\")\n",
    "    plt.legend()\n",
    "    plt.grid(True)\n",
    "\n",
    "    plt.tight_layout()\n",
    "    plt.show()\n"
   ]
  },
  {
   "cell_type": "code",
   "execution_count": null,
   "metadata": {},
   "outputs": [
    {
     "name": "stdout",
     "output_type": "stream",
     "text": [
      "Collecting rouge_score\n",
      "  Downloading rouge_score-0.1.2.tar.gz (17 kB)\n",
      "  Preparing metadata (setup.py) ... \u001b[?25l\u001b[?25hdone\n",
      "Requirement already satisfied: absl-py in /usr/local/lib/python3.10/dist-packages (from rouge_score) (1.4.0)\n",
      "Requirement already satisfied: nltk in /usr/local/lib/python3.10/dist-packages (from rouge_score) (3.9.1)\n",
      "Requirement already satisfied: numpy in /usr/local/lib/python3.10/dist-packages (from rouge_score) (1.26.4)\n",
      "Requirement already satisfied: six>=1.14.0 in /usr/local/lib/python3.10/dist-packages (from rouge_score) (1.16.0)\n",
      "Requirement already satisfied: click in /usr/local/lib/python3.10/dist-packages (from nltk->rouge_score) (8.1.7)\n",
      "Requirement already satisfied: joblib in /usr/local/lib/python3.10/dist-packages (from nltk->rouge_score) (1.4.2)\n",
      "Requirement already satisfied: regex>=2021.8.3 in /usr/local/lib/python3.10/dist-packages (from nltk->rouge_score) (2024.9.11)\n",
      "Requirement already satisfied: tqdm in /usr/local/lib/python3.10/dist-packages (from nltk->rouge_score) (4.66.6)\n",
      "Building wheels for collected packages: rouge_score\n",
      "  Building wheel for rouge_score (setup.py) ... \u001b[?25l\u001b[?25hdone\n",
      "  Created wheel for rouge_score: filename=rouge_score-0.1.2-py3-none-any.whl size=24935 sha256=52e5b0838c297c4641afe4f20037c114191ac2d129293e27290df9ab62fe55dc\n",
      "  Stored in directory: /root/.cache/pip/wheels/5f/dd/89/461065a73be61a532ff8599a28e9beef17985c9e9c31e541b4\n",
      "Successfully built rouge_score\n",
      "Installing collected packages: rouge_score\n",
      "Successfully installed rouge_score-0.1.2\n"
     ]
    }
   ],
   "source": [
    "!pip install rouge_score"
   ]
  },
  {
   "cell_type": "code",
   "execution_count": null,
   "metadata": {},
   "outputs": [],
   "source": [
    "from rouge_score import rouge_scorer\n",
    "\n",
    "def evaluate_model(encoder, decoder, dataloader, vocab, device):\n",
    "    encoder.eval()\n",
    "    decoder.eval()\n",
    "\n",
    "    total_loss = 0\n",
    "    total_rouge_1, total_rouge_2, total_rouge_l = 0, 0, 0\n",
    "    num_samples = 0\n",
    "    criterion = torch.nn.CrossEntropyLoss()\n",
    "\n",
    "    scorer = rouge_scorer.RougeScorer(['rouge1', 'rouge2', 'rougeL'], use_stemmer=True)\n",
    "\n",
    "    with torch.no_grad():\n",
    "        for documents, summaries, document_masks, summary_masks in tqdm(dataloader, desc=\"Evaluating\"):\n",
    "            documents = documents.to(device)\n",
    "            summaries = summaries.to(device)\n",
    "            document_masks = document_masks.to(device)\n",
    "\n",
    "            # Forward pass through encoder\n",
    "            encoder_outputs, hidden = encoder(documents, document_masks)\n",
    "\n",
    "            # Initialize decoder inputs\n",
    "            decoder_input = torch.full((documents.size(0),), vocab.token_to_id_mapping('<s>'), device=device, dtype=torch.long)\n",
    "            decoder_hidden = hidden[:1]\n",
    "\n",
    "            batch_loss = 0\n",
    "            generated_summaries = []\n",
    "\n",
    "            # Generate summaries and calculate loss\n",
    "            for t in range(summaries.size(1)):\n",
    "                decoder_logits, decoder_hidden = decoder(decoder_input, decoder_hidden, encoder_outputs, document_masks)\n",
    "                loss = criterion(decoder_logits, summaries[:, t].long())\n",
    "                batch_loss += loss\n",
    "\n",
    "                # Greedy decoding\n",
    "                predicted_tokens = torch.argmax(decoder_logits, dim=1)\n",
    "                decoder_input = predicted_tokens  # Next input for decoder\n",
    "\n",
    "                # Collect generated tokens for each sample\n",
    "                generated_summaries.append(predicted_tokens.cpu().numpy())\n",
    "\n",
    "            # Convert generated summaries and references to text\n",
    "            generated_summaries = [\" \".join(vocab.id_to_token_mapping(token) for token in sample) for sample in zip(*generated_summaries)]\n",
    "            reference_summaries = [\" \".join(vocab.id_to_token_mapping(token.item()) for token in summary if token.item() != vocab.token_to_id_mapping('</s>')) for summary in summaries]\n",
    "\n",
    "            # Calculate ROUGE scores\n",
    "            for generated, reference in zip(generated_summaries, reference_summaries):\n",
    "                scores = scorer.score(reference, generated)\n",
    "                total_rouge_1 += scores['rouge1'].fmeasure\n",
    "                total_rouge_2 += scores['rouge2'].fmeasure\n",
    "                total_rouge_l += scores['rougeL'].fmeasure\n",
    "\n",
    "            total_loss += batch_loss.item()\n",
    "            num_samples += len(documents)\n",
    "\n",
    "    # Compute average loss and ROUGE scores\n",
    "    avg_loss = total_loss / num_samples\n",
    "    avg_rouge_1 = total_rouge_1 / num_samples\n",
    "    avg_rouge_2 = total_rouge_2 / num_samples\n",
    "    avg_rouge_l = total_rouge_l / num_samples\n",
    "\n",
    "    return avg_loss, avg_rouge_1, avg_rouge_2, avg_rouge_l\n"
   ]
  },
  {
   "cell_type": "markdown",
   "metadata": {},
   "source": [
    "## Step 5: Integrate into Training Loop"
   ]
  },
  {
   "cell_type": "code",
   "execution_count": null,
   "metadata": {},
   "outputs": [],
   "source": [
    "import os\n",
    "from tqdm import tqdm\n",
    "from torch.cuda.amp import GradScaler, autocast\n",
    "\n",
    "def save_checkpoint(epoch, encoder, decoder, optimizer, train_loss, val_loss, filepath):\n",
    "    \"\"\"Save model checkpoint.\"\"\"\n",
    "    checkpoint = {\n",
    "        'epoch': epoch,\n",
    "        'encoder_state_dict': encoder.state_dict(),\n",
    "        'decoder_state_dict': decoder.state_dict(),\n",
    "        'optimizer_state_dict': optimizer.state_dict(),\n",
    "        'train_loss': train_loss,\n",
    "        'val_loss': val_loss\n",
    "    }\n",
    "    torch.save(checkpoint, filepath)\n",
    "    print(f\"Checkpoint saved at {filepath}\")\n",
    "\n",
    "def train_model(encoder, decoder, dataloader, val_loader, criterion, optimizer, num_epochs, vocab, device, checkpoint_dir='./checkpoints'):\n",
    "    os.makedirs(checkpoint_dir, exist_ok=True)  # Ensure the checkpoint directory exists\n",
    "    encoder.to(device)\n",
    "    decoder.to(device)\n",
    "    scaler = GradScaler(init_scale=5.0)\n",
    "    num_samples = 0\n",
    "\n",
    "    train_losses, val_losses = [], []\n",
    "    train_rouge, val_rouge = [], []\n",
    "    losses = []\n",
    "    best_val_loss = float('inf')  # To track the best validation loss\n",
    "\n",
    "    for epoch in range(num_epochs):\n",
    "        torch.cuda.empty_cache()\n",
    "        encoder.train()\n",
    "        decoder.train()\n",
    "        total_loss = 0\n",
    "        teacher_forcing_ratio = max(0.5, 1 - epoch / num_epochs)\n",
    "\n",
    "        optimizer.zero_grad()\n",
    "\n",
    "        for documents, summaries, document_masks, summary_masks in tqdm(dataloader):\n",
    "            documents = documents.to(device)\n",
    "            summaries = summaries.to(device)\n",
    "            document_masks = document_masks.to(device)\n",
    "\n",
    "            with autocast(dtype=torch.float16):\n",
    "                # Encoder forward pass\n",
    "                encoder_outputs, hidden = encoder(documents, document_masks)\n",
    "\n",
    "                # Initialize decoder inputs\n",
    "                decoder_input = torch.full((documents.size(0),), vocab.token_to_id_mapping('<s>'), device=device, dtype=torch.long)\n",
    "                decoder_hidden = hidden[:1]  # Use the forward GRU output from bidirectional GRU\n",
    "\n",
    "                batch_loss = 0\n",
    "\n",
    "                # Teacher forcing\n",
    "                for t in range(summaries.size(1)):\n",
    "                    decoder_logits, decoder_hidden = decoder(decoder_input, decoder_hidden, encoder_outputs, document_masks)\n",
    "                    if torch.isnan(decoder_logits).any():\n",
    "                        print(decoder_input)\n",
    "                    loss = criterion(decoder_logits, summaries[:, t].long())\n",
    "                    batch_loss += loss\n",
    "                    # decoder_input = summaries[:, t]  # Teacher forcing\n",
    "\n",
    "            scaler.scale(batch_loss).backward()  # Backpropagate scaled loss (if mixed precision)\n",
    "            scaler.unscale_(optimizer)  # Unscale gradients for clipping\n",
    "            torch.nn.utils.clip_grad_norm_(encoder.parameters(), max_norm=5.0)  # Gradient clipping\n",
    "            torch.nn.utils.clip_grad_norm_(decoder.parameters(), max_norm=5.0)  # Gradient clipping\n",
    "            scaler.step(optimizer)  # Update parameters\n",
    "            scaler.update()  # Update scaler for next iteration\n",
    "\n",
    "            total_loss += batch_loss.item()\n",
    "            num_samples += len(documents)\n",
    "\n",
    "        avg_train_loss = total_loss / num_samples\n",
    "        # avg_train_loss = sum(losses) / len(losses)\n",
    "        _, avg_train_rouge_1, avg_train_rouge_2, avg_train_rouge_l = evaluate_model(encoder, decoder, dataloader, vocab, device)\n",
    "        print(f\"Epoch {epoch + 1}/{num_epochs}:\")\n",
    "        print(f\"  Training Loss: {avg_train_loss:.4f} , Training ROUGE-L: {avg_train_rouge_l:.4f}\")\n",
    "        avg_val_loss, avg_val_rouge_1, avg_val_rouge_2, avg_val_rouge_l = evaluate_model(encoder, decoder, val_loader, vocab, device)\n",
    "        print(f\"  Validation Loss: {avg_val_loss:.4f}, Validation ROUGE-L: {avg_val_rouge_l:.4f}\")\n",
    "\n",
    "        train_losses.append(avg_train_loss)\n",
    "        val_losses.append(avg_val_loss)\n",
    "        train_rouge.append(avg_train_rouge_l)\n",
    "        val_rouge.append(avg_val_rouge_l)\n",
    "\n",
    "        # Save checkpoint if validation loss improves\n",
    "        if avg_val_loss < best_val_loss:\n",
    "            best_val_loss = avg_val_loss\n",
    "            save_checkpoint(\n",
    "                epoch + 1,\n",
    "                encoder,\n",
    "                decoder,\n",
    "                optimizer,\n",
    "                avg_train_loss,\n",
    "                avg_val_loss,\n",
    "                os.path.join(checkpoint_dir, f\"best_checkpoint_epoch_{epoch + 1}.pt\")\n",
    "            )\n",
    "\n",
    "        # Generate summaries for validation samples\n",
    "        validate_and_print_summaries(encoder, decoder, val_loader, vocab, epoch, device)\n",
    "\n",
    "    plot_metrics(train_losses, val_losses, train_rouge, val_rouge, num_epochs)\n"
   ]
  },
  {
   "cell_type": "code",
   "execution_count": null,
   "metadata": {},
   "outputs": [
    {
     "name": "stderr",
     "output_type": "stream",
     "text": [
      "/usr/local/lib/python3.10/dist-packages/torch/utils/data/dataloader.py:617: UserWarning: This DataLoader will create 4 worker processes in total. Our suggested max number of worker in current system is 2, which is smaller than what this DataLoader is going to create. Please be aware that excessive worker creation might get DataLoader running slow or even freeze, lower the worker number to avoid potential slowness/freeze if necessary.\n",
      "  warnings.warn(\n",
      "/usr/local/lib/python3.10/dist-packages/torch/nn/modules/rnn.py:123: UserWarning: dropout option adds dropout after all but last recurrent layer, so non-zero dropout expects num_layers greater than 1, but got dropout=0.4 and num_layers=1\n",
      "  warnings.warn(\n"
     ]
    }
   ],
   "source": [
    "# Hyperparameters\n",
    "embedding_size = 100\n",
    "hidden_size = 100\n",
    "batch_size = 32\n",
    "num_epochs = 10\n",
    "learning_rate = 1e-3\n",
    "device = torch.device('cuda' if torch.cuda.is_available() else 'cpu')\n",
    "\n",
    "train_loader = DataLoader(train_dataset, batch_size=batch_size, shuffle=True, collate_fn=collate_fn, num_workers=4)\n",
    "val_loader = DataLoader(val_dataset, batch_size=batch_size, shuffle=False, collate_fn=collate_fn, num_workers=4)\n",
    "\n",
    "# Model Initialization\n",
    "vocab_size = vocab.vocab_size()\n",
    "encoder = Encoder(vocab_size, embedding_size, hidden_size, embedding_matrix)\n",
    "attention = Attention(hidden_size)\n",
    "decoder = Decoder(vocab_size, embedding_size, hidden_size, embedding_matrix)\n"
   ]
  },
  {
   "cell_type": "markdown",
   "metadata": {},
   "source": [
    "## Step 6: Training"
   ]
  },
  {
   "cell_type": "code",
   "execution_count": null,
   "metadata": {},
   "outputs": [
    {
     "name": "stderr",
     "output_type": "stream",
     "text": [
      "<ipython-input-18-0e85c999a2e0>:22: FutureWarning: `torch.cuda.amp.GradScaler(args...)` is deprecated. Please use `torch.amp.GradScaler('cuda', args...)` instead.\n",
      "  scaler = GradScaler(init_scale=5.0)\n",
      "  0%|          | 0/1913 [00:00<?, ?it/s]/usr/local/lib/python3.10/dist-packages/torch/utils/data/dataloader.py:617: UserWarning: This DataLoader will create 4 worker processes in total. Our suggested max number of worker in current system is 2, which is smaller than what this DataLoader is going to create. Please be aware that excessive worker creation might get DataLoader running slow or even freeze, lower the worker number to avoid potential slowness/freeze if necessary.\n",
      "  warnings.warn(\n",
      "<ipython-input-18-0e85c999a2e0>:44: FutureWarning: `torch.cuda.amp.autocast(args...)` is deprecated. Please use `torch.amp.autocast('cuda', args...)` instead.\n",
      "  with autocast(dtype=torch.float16):\n",
      "100%|██████████| 1913/1913 [04:05<00:00,  7.80it/s]\n",
      "Evaluating: 100%|██████████| 1913/1913 [03:17<00:00,  9.70it/s]\n"
     ]
    },
    {
     "name": "stdout",
     "output_type": "stream",
     "text": [
      "Epoch 1/10:\n",
      "  Training Loss: 4.3371 , Training ROUGE-L: 0.0975\n"
     ]
    },
    {
     "name": "stderr",
     "output_type": "stream",
     "text": [
      "Evaluating: 100%|██████████| 36/36 [00:03<00:00, 10.09it/s]\n"
     ]
    },
    {
     "name": "stdout",
     "output_type": "stream",
     "text": [
      "  Validation Loss: 4.8922, Validation ROUGE-L: 0.0963\n",
      "Checkpoint saved at ./checkpoints/best_checkpoint_epoch_1.pt\n",
      "\n",
      "Summaries at Epoch 1:\n",
      "\n",
      "Sample 1:\n",
      "Generated Summary: a scottish of scotland the of the the scottish the in the the to scottish a wildlife it scottish the of to scotlands the to scottish a to scotlands the of of it scotlands the scottish of the the the the to the scottish in scotland the the it the\n",
      "---\n",
      "Sample 2:\n",
      "Generated Summary: venezuelas turkish a recep the russian the has russia the president it nato the ukraine a ukraine the us talks turkish the has ukraine the president of ukraine a president it president the turkish of tayyip the president the russia in ukraine a nato it president a ukraine it president\n",
      "---\n",
      "Sample 3:\n",
      "Generated Summary: an minister the has it the it migrants the has eu the eu has it the eu the to refugees the uk the has refugees a migrants the eu has has it uk the eu a refugees it prime a eu the minister the minister the the a refugees the\n",
      "---\n"
     ]
    },
    {
     "name": "stderr",
     "output_type": "stream",
     "text": [
      "100%|██████████| 1913/1913 [03:52<00:00,  8.24it/s]\n",
      "Evaluating: 100%|██████████| 1913/1913 [03:05<00:00, 10.34it/s]\n"
     ]
    },
    {
     "name": "stdout",
     "output_type": "stream",
     "text": [
      "Epoch 2/10:\n",
      "  Training Loss: 2.0083 , Training ROUGE-L: 0.1084\n"
     ]
    },
    {
     "name": "stderr",
     "output_type": "stream",
     "text": [
      "Evaluating: 100%|██████████| 36/36 [00:03<00:00, 10.49it/s]\n"
     ]
    },
    {
     "name": "stdout",
     "output_type": "stream",
     "text": [
      "  Validation Loss: 4.5032, Validation ROUGE-L: 0.1058\n",
      "Checkpoint saved at ./checkpoints/best_checkpoint_epoch_2.pt\n",
      "\n",
      "Summaries at Epoch 2:\n",
      "\n",
      "Sample 1:\n",
      "Generated Summary: the of a have of the a the the to the the to to a the the of to to to the of to the the the to of the a the and to a the a a the of the of the the the of a to the and\n",
      "---\n",
      "Sample 2:\n",
      "Generated Summary: russian russian of the have the has the to in in in of the a a of a and a of of of the the and the to to a to the and of to the a and a the the to to the and the the and a the\n",
      "---\n",
      "Sample 3:\n",
      "Generated Summary: the prime says the said the to to to the in migrants of of in in in the in the to to the of the the the the to to to the of the to of the to to the the the the the the the migrants the migrants to\n",
      "---\n"
     ]
    },
    {
     "name": "stderr",
     "output_type": "stream",
     "text": [
      "100%|██████████| 1913/1913 [03:52<00:00,  8.23it/s]\n",
      "Evaluating: 100%|██████████| 1913/1913 [03:08<00:00, 10.13it/s]\n"
     ]
    },
    {
     "name": "stdout",
     "output_type": "stream",
     "text": [
      "Epoch 3/10:\n",
      "  Training Loss: 1.2967 , Training ROUGE-L: 0.1163\n"
     ]
    },
    {
     "name": "stderr",
     "output_type": "stream",
     "text": [
      "Evaluating: 100%|██████████| 36/36 [00:05<00:00,  6.45it/s]\n"
     ]
    },
    {
     "name": "stdout",
     "output_type": "stream",
     "text": [
      "  Validation Loss: 4.4690, Validation ROUGE-L: 0.1136\n",
      "Checkpoint saved at ./checkpoints/best_checkpoint_epoch_3.pt\n",
      "\n",
      "Summaries at Epoch 3:\n",
      "\n",
      "Sample 1:\n",
      "Generated Summary: the have have have are the to to of of in the the a the in in in of of a of the to in of of of a in of in the to the the a a of of the the a a in to the the a of\n",
      "---\n",
      "Sample 2:\n",
      "Generated Summary: russia president has have have has the in in to in in to and the the the the the the to in the the to to the and of in the and the in of the the and in to in the the the in of the the and in\n",
      "---\n",
      "Sample 3:\n",
      "Generated Summary: the cameron minister minister the has to has has to the migrant to migrant to of the the to to the the to the to to to refugees to to the of refugees the the the refugees migrant to migrant the to the migrant to migrant said to to migrant\n",
      "---\n"
     ]
    },
    {
     "name": "stderr",
     "output_type": "stream",
     "text": [
      "100%|██████████| 1913/1913 [03:51<00:00,  8.27it/s]\n",
      "Evaluating: 100%|██████████| 1913/1913 [03:05<00:00, 10.30it/s]\n"
     ]
    },
    {
     "name": "stdout",
     "output_type": "stream",
     "text": [
      "Epoch 4/10:\n",
      "  Training Loss: 0.9529 , Training ROUGE-L: 0.1189\n"
     ]
    },
    {
     "name": "stderr",
     "output_type": "stream",
     "text": [
      "Evaluating: 100%|██████████| 36/36 [00:04<00:00,  7.34it/s]\n"
     ]
    },
    {
     "name": "stdout",
     "output_type": "stream",
     "text": [
      "  Validation Loss: 4.4572, Validation ROUGE-L: 0.1125\n",
      "Checkpoint saved at ./checkpoints/best_checkpoint_epoch_4.pt\n",
      "\n",
      "Summaries at Epoch 4:\n",
      "\n",
      "Sample 1:\n",
      "Generated Summary: a are have have a scotland to of to of of the to to the the the scotland the the the scotland scotland scotland of the of a the the of in the the the scotland the scotland the the the the scotland scotland of the the of the scotland\n",
      "---\n",
      "Sample 2:\n",
      "Generated Summary: the government has have have to the the the in in of in of of and the the in of of the russia russia in and the and and the of of the russia russia the and of the the the the the the of the the in and a\n",
      "---\n",
      "Sample 3:\n",
      "Generated Summary: the secretary minister minister to said has the migrant migrant to the to the to migrant of migrant migrant to migrant migrant migrant the of of to migrant migrant the migrant to migrant said the migrant migrant migrant said migrant migrant to migrant migrant migrant migrant said migrant migrant migrant\n",
      "---\n"
     ]
    },
    {
     "name": "stderr",
     "output_type": "stream",
     "text": [
      "100%|██████████| 1913/1913 [03:53<00:00,  8.21it/s]\n",
      "Evaluating: 100%|██████████| 1913/1913 [03:10<00:00, 10.03it/s]\n"
     ]
    },
    {
     "name": "stdout",
     "output_type": "stream",
     "text": [
      "Epoch 5/10:\n",
      "  Training Loss: 0.7504 , Training ROUGE-L: 0.1206\n"
     ]
    },
    {
     "name": "stderr",
     "output_type": "stream",
     "text": [
      "Evaluating: 100%|██████████| 36/36 [00:04<00:00,  8.28it/s]\n"
     ]
    },
    {
     "name": "stdout",
     "output_type": "stream",
     "text": [
      "  Validation Loss: 4.4541, Validation ROUGE-L: 0.1152\n",
      "Checkpoint saved at ./checkpoints/best_checkpoint_epoch_5.pt\n",
      "\n",
      "Summaries at Epoch 5:\n",
      "\n",
      "Sample 1:\n",
      "Generated Summary: a scottish to scotlands scotlands to to a in the of in the to a the a to the the a to the the a the of to the of of of the a a in to the to to to the a the to of the the of of\n",
      "---\n",
      "Sample 2:\n",
      "Generated Summary: the has has has the have have the to the the in in and to of to the to of in of of of the the the in the and to of and the in of the the the to of in and in and of the and of to\n",
      "---\n",
      "Sample 3:\n",
      "Generated Summary: the secretary minister has has has has the the to to migrants the to to to the migrants the migrants the the migrants to a the the migrants migrants the the the the the the the migrants migrants to a the migrants a a migrants to a migrants to the\n",
      "---\n"
     ]
    },
    {
     "name": "stderr",
     "output_type": "stream",
     "text": [
      "100%|██████████| 1913/1913 [03:50<00:00,  8.32it/s]\n",
      "Evaluating: 100%|██████████| 1913/1913 [03:12<00:00,  9.92it/s]\n"
     ]
    },
    {
     "name": "stdout",
     "output_type": "stream",
     "text": [
      "Epoch 6/10:\n",
      "  Training Loss: 0.6178 , Training ROUGE-L: 0.1229\n"
     ]
    },
    {
     "name": "stderr",
     "output_type": "stream",
     "text": [
      "Evaluating: 100%|██████████| 36/36 [00:05<00:00,  6.64it/s]\n"
     ]
    },
    {
     "name": "stdout",
     "output_type": "stream",
     "text": [
      "  Validation Loss: 4.4538, Validation ROUGE-L: 0.1150\n",
      "Checkpoint saved at ./checkpoints/best_checkpoint_epoch_6.pt\n",
      "\n",
      "Summaries at Epoch 6:\n",
      "\n",
      "Sample 1:\n",
      "Generated Summary: scotlands scottish of scotland of the the of of to of in the to of the of scotland of of scotland to in in of scotland the to to the of the to a the the in the in a the the a a of of a in in the\n",
      "---\n",
      "Sample 2:\n",
      "Generated Summary: the is parliament has have has the ukraine in ukraine to ukraine to the to ukraine of of ukraine of the ukraine ukraine in and ukraine and ukraine the the of to the to and of of ukraine of to to the the the the the of of to of\n",
      "---\n",
      "Sample 3:\n",
      "Generated Summary: the cameron minister cameron has the has to a to to to a the the the the eu the the the a the a migrant migrant the the said to to said the the eu eu the the a to said the said the to to said eu eu said\n",
      "---\n"
     ]
    },
    {
     "name": "stderr",
     "output_type": "stream",
     "text": [
      "100%|██████████| 1913/1913 [03:52<00:00,  8.23it/s]\n",
      "Evaluating: 100%|██████████| 1913/1913 [03:06<00:00, 10.24it/s]\n"
     ]
    },
    {
     "name": "stdout",
     "output_type": "stream",
     "text": [
      "Epoch 7/10:\n",
      "  Training Loss: 0.5246 , Training ROUGE-L: 0.1259\n"
     ]
    },
    {
     "name": "stderr",
     "output_type": "stream",
     "text": [
      "Evaluating: 100%|██████████| 36/36 [00:05<00:00,  7.05it/s]\n"
     ]
    },
    {
     "name": "stdout",
     "output_type": "stream",
     "text": [
      "  Validation Loss: 4.4537, Validation ROUGE-L: 0.1179\n",
      "Checkpoint saved at ./checkpoints/best_checkpoint_epoch_7.pt\n",
      "\n",
      "Summaries at Epoch 7:\n",
      "\n",
      "Sample 1:\n",
      "Generated Summary: a of the of the the the of of of in to the of the of a to a in of the the in the the to in the the in the the the the of in in the the conservationists the the conservationists conservationists conservationists to to the conservationists\n",
      "---\n",
      "Sample 2:\n",
      "Generated Summary: russia forces has has is has a to the to of to a the to in in in and of in of to the to the of the of the of the in of of the to to the of of and in the the the of of of the\n",
      "---\n",
      "Sample 3:\n",
      "Generated Summary: the uk minister has has to to the to of the migrant the to in to to the migrant to the to the to to to the the to the immigration the the to said to migrants migrant migrants migrants migrants to the to the to to said to to\n",
      "---\n"
     ]
    },
    {
     "name": "stderr",
     "output_type": "stream",
     "text": [
      "100%|██████████| 1913/1913 [03:52<00:00,  8.24it/s]\n",
      "Evaluating: 100%|██████████| 1913/1913 [03:11<00:00,  9.99it/s]\n"
     ]
    },
    {
     "name": "stdout",
     "output_type": "stream",
     "text": [
      "Epoch 8/10:\n",
      "  Training Loss: 0.4558 , Training ROUGE-L: 0.1298\n"
     ]
    },
    {
     "name": "stderr",
     "output_type": "stream",
     "text": [
      "Evaluating: 100%|██████████| 36/36 [00:05<00:00,  6.83it/s]"
     ]
    },
    {
     "name": "stdout",
     "output_type": "stream",
     "text": [
      "  Validation Loss: 4.4572, Validation ROUGE-L: 0.1196\n"
     ]
    },
    {
     "name": "stderr",
     "output_type": "stream",
     "text": [
      "\n"
     ]
    },
    {
     "name": "stdout",
     "output_type": "stream",
     "text": [
      "\n",
      "Summaries at Epoch 8:\n",
      "\n",
      "Sample 1:\n",
      "Generated Summary: scottish scottish hunting have scotlands the to the a to a of the a a a in of a in to the the in in a the the the of in the a the the a the to of to the in to to of a to the a a\n",
      "---\n",
      "Sample 2:\n",
      "Generated Summary: ukraines un state has has has in to in the a to the the eastern the a the of of of of of of a a eastern in eastern of the eastern ukraine of of a of of the the in ukraine the of eastern in in ukraine of the\n",
      "---\n",
      "Sample 3:\n",
      "Generated Summary: a secretary minister has has he to to to to to to the the to to to a to refugees to the the the minister the the said a to to refugees refugees the said the to refugees said the a to the said the to a the to refugees\n",
      "---\n"
     ]
    },
    {
     "name": "stderr",
     "output_type": "stream",
     "text": [
      "100%|██████████| 1913/1913 [03:52<00:00,  8.22it/s]\n",
      "Evaluating: 100%|██████████| 1913/1913 [03:12<00:00,  9.91it/s]\n"
     ]
    },
    {
     "name": "stdout",
     "output_type": "stream",
     "text": [
      "Epoch 9/10:\n",
      "  Training Loss: 0.4023 , Training ROUGE-L: 0.1303\n"
     ]
    },
    {
     "name": "stderr",
     "output_type": "stream",
     "text": [
      "Evaluating: 100%|██████████| 36/36 [00:03<00:00, 10.14it/s]"
     ]
    },
    {
     "name": "stdout",
     "output_type": "stream",
     "text": [
      "  Validation Loss: 4.4611, Validation ROUGE-L: 0.1171\n"
     ]
    },
    {
     "name": "stderr",
     "output_type": "stream",
     "text": [
      "\n"
     ]
    },
    {
     "name": "stdout",
     "output_type": "stream",
     "text": [
      "\n",
      "Summaries at Epoch 9:\n",
      "\n",
      "Sample 1:\n",
      "Generated Summary: the government the the to to on the of marine the to a the marine the the marine the the the the marine the the to of of the marine the a marine to a the marine of of the marine the the the marine to a a the of\n",
      "---\n",
      "Sample 2:\n",
      "Generated Summary: ukrainian forces have has has a the to in russia the the russia in rebels in in russia the rebels the russia russia the in the of of the the of the of and of the and the on the the the the of the in on in in the\n",
      "---\n",
      "Sample 3:\n",
      "Generated Summary: a eu minister minister said said a to a to to the a of the the of to the of the refugees the migrant migrant eu refugees to refugees migrants migrant migrants to refugees refugees migrant the migrants the migrants migrants the the migrant to a refugees to the migrants\n",
      "---\n"
     ]
    },
    {
     "name": "stderr",
     "output_type": "stream",
     "text": [
      "100%|██████████| 1913/1913 [03:54<00:00,  8.17it/s]\n",
      "Evaluating: 100%|██████████| 1913/1913 [03:15<00:00,  9.81it/s]\n"
     ]
    },
    {
     "name": "stdout",
     "output_type": "stream",
     "text": [
      "Epoch 10/10:\n",
      "  Training Loss: 0.3599 , Training ROUGE-L: 0.1323\n"
     ]
    },
    {
     "name": "stderr",
     "output_type": "stream",
     "text": [
      "Evaluating: 100%|██████████| 36/36 [00:03<00:00, 10.52it/s]"
     ]
    },
    {
     "name": "stdout",
     "output_type": "stream",
     "text": [
      "  Validation Loss: 4.4624, Validation ROUGE-L: 0.1199\n"
     ]
    },
    {
     "name": "stderr",
     "output_type": "stream",
     "text": [
      "\n"
     ]
    },
    {
     "name": "stdout",
     "output_type": "stream",
     "text": [
      "\n",
      "Summaries at Epoch 10:\n",
      "\n",
      "Sample 1:\n",
      "Generated Summary: the government of have to of the the to the to of the to to in to of the a the a the the of the of the the the in the the to of the of the the a to the in of the a a to a to\n",
      "---\n",
      "Sample 2:\n",
      "Generated Summary: the un has has has have to to in of of of in the to eastern the the the the the of the the in the in of eastern the to eastern the of of the the military the in the military military eastern of eastern the of military of\n",
      "---\n",
      "Sample 3:\n",
      "Generated Summary: prime minister government to migrants to refugees of the to the to to of of the migrants migrants to refugees migrants migrants the migrant refugees the migrants to the the to refugees migrants migrant refugees migrants refugees to the to to the migrants the the the migrants migrants refugees the\n",
      "---\n"
     ]
    },
    {
     "data": {
      "image/png": "[encoded data removed]",
      "text/plain": [
       "<Figure size 1200x600 with 2 Axes>"
      ]
     },
     "metadata": {},
     "output_type": "display_data"
    }
   ],
   "source": [
    "# Loss and Optimizer\n",
    "criterion = nn.CrossEntropyLoss(ignore_index=vocab.token_to_id_mapping('<pad>'))\n",
    "optimizer = optim.Adam(list(encoder.parameters()) + list(decoder.parameters()), lr=learning_rate, weight_decay=1e-5)\n",
    "\n",
    "# Training\n",
    "train_model(encoder, decoder, train_loader, val_loader, criterion, optimizer, num_epochs, vocab, device)\n"
   ]
  },
  {
   "cell_type": "code",
   "execution_count": null,
   "metadata": {},
   "outputs": [],
   "source": []
  },
  {
   "cell_type": "markdown",
   "metadata": {},
   "source": [
    "## Analysis Summary:\n",
    "\n",
    "    Early Epochs (1–3): Highly repetitive, nonsensical text with no meaningful structure. The model is learning basic patterns but lacks context.\n",
    "    Middle Epochs (4–6): Slight improvement; domain-specific words appear (e.g., \"scotland,\" \"ukraine\"), but repetitions persist.\n",
    "    Later Epochs (7–10): Better topic relevance and reduced repetition, but fluency and diversity are still lacking.\n",
    "\n",
    "### Conclusion:\n",
    "\n",
    "The summaries improve gradually, showing better alignment with the context. However, issues like redundancy and lack of fluency remain, suggesting the need for further optimization (e.g., lower dropout, reduce reguarization term etc.)."
   ]
  }
 ],
 "metadata": {
  "language_info": {
   "name": "python"
  },
  "orig_nbformat": 4
 },
 "nbformat": 4,
 "nbformat_minor": 2
}
