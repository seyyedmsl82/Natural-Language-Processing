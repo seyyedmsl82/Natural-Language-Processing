{
 "cells": [
  {
   "cell_type": "markdown",
   "metadata": {},
   "source": [
    "<div dir=\"rtl\" style=\"font-family: Vazir; width: 85%; font-size: 16px\">\n",
    "\n",
    "*بخش مجموعه داده:*\n",
    "---\n",
    "\n",
    "## پاسخ الف:\n",
    "\n",
    "---\n"
   ]
  },
  {
   "cell_type": "markdown",
   "metadata": {},
   "source": [
    "## Part A: Loading the Dataset\n",
    "\n",
    "The dataset Conll2003 is widely used for Named Entity Recognition (NER). It includes sentences from news articles, annotated with tokenized words, Part-Of-Speech (POS) tags, Chunk tags, and NER tags.\n",
    "\n",
    "The dataset contains the following columns:\n",
    "\n",
    "1. **tokens:** The tokenized words in the sentence.\n",
    "2. **pos_tags:** Part-of-Speech tags for each token (e.g., NN for noun).\n",
    "3. **chunk_tags:** Chunking tags for syntactic structure (e.g., B-NP, I-VP).\n",
    "    - **NP (Noun Phrase):** A group of words formed around a noun.  \n",
    "    - **VP (Verb Phrase):** A group of words formed around a verb.  \n",
    "    - **PP (Prepositional Phrase):** Phrases that start with prepositions.  \n",
    "4. **ner_tags:** Named Entity Recognition labels (e.g., B-PER for a person's name).\n",
    "\n",
    "---"
   ]
  },
  {
   "cell_type": "markdown",
   "metadata": {},
   "source": [
    "<div dir=\"rtl\" style=\"font-family: Vazir; width: 85%; font-size: 16px\">\n",
    "\n",
    "## پاسخ ب:\n",
    "\n",
    "---\n"
   ]
  },
  {
   "cell_type": "markdown",
   "metadata": {},
   "source": [
    "## Part B: Examine Tags\n",
    "\n",
    "1. POS Tags: Indicate the grammatical role of each token (e.g., noun, verb).\n",
    "2. Chunk Tags: Define the syntactic chunk (e.g., noun phrase, verb phrase).\n",
    "3. NER Tags: Mark entities such as people, locations, and organizations.\n",
    "\n",
    "---"
   ]
  },
  {
   "cell_type": "code",
   "execution_count": null,
   "metadata": {},
   "outputs": [
    {
     "name": "stdout",
     "output_type": "stream",
     "text": [
      "Requirement already satisfied: datasets in /usr/local/lib/python3.10/dist-packages (3.2.0)\n",
      "Requirement already satisfied: filelock in /usr/local/lib/python3.10/dist-packages (from datasets) (3.16.1)\n",
      "Requirement already satisfied: numpy>=1.17 in /usr/local/lib/python3.10/dist-packages (from datasets) (1.26.4)\n",
      "Requirement already satisfied: pyarrow>=15.0.0 in /usr/local/lib/python3.10/dist-packages (from datasets) (17.0.0)\n",
      "Requirement already satisfied: dill<0.3.9,>=0.3.0 in /usr/local/lib/python3.10/dist-packages (from datasets) (0.3.8)\n",
      "Requirement already satisfied: pandas in /usr/local/lib/python3.10/dist-packages (from datasets) (2.2.2)\n",
      "Requirement already satisfied: requests>=2.32.2 in /usr/local/lib/python3.10/dist-packages (from datasets) (2.32.3)\n",
      "Requirement already satisfied: tqdm>=4.66.3 in /usr/local/lib/python3.10/dist-packages (from datasets) (4.66.6)\n",
      "Requirement already satisfied: xxhash in /usr/local/lib/python3.10/dist-packages (from datasets) (3.5.0)\n",
      "Requirement already satisfied: multiprocess<0.70.17 in /usr/local/lib/python3.10/dist-packages (from datasets) (0.70.16)\n",
      "Requirement already satisfied: fsspec<=2024.9.0,>=2023.1.0 in /usr/local/lib/python3.10/dist-packages (from fsspec[http]<=2024.9.0,>=2023.1.0->datasets) (2024.9.0)\n",
      "Requirement already satisfied: aiohttp in /usr/local/lib/python3.10/dist-packages (from datasets) (3.11.10)\n",
      "Requirement already satisfied: huggingface-hub>=0.23.0 in /usr/local/lib/python3.10/dist-packages (from datasets) (0.26.5)\n",
      "Requirement already satisfied: packaging in /usr/local/lib/python3.10/dist-packages (from datasets) (24.2)\n",
      "Requirement already satisfied: pyyaml>=5.1 in /usr/local/lib/python3.10/dist-packages (from datasets) (6.0.2)\n",
      "Requirement already satisfied: aiohappyeyeballs>=2.3.0 in /usr/local/lib/python3.10/dist-packages (from aiohttp->datasets) (2.4.4)\n",
      "Requirement already satisfied: aiosignal>=1.1.2 in /usr/local/lib/python3.10/dist-packages (from aiohttp->datasets) (1.3.1)\n",
      "Requirement already satisfied: async-timeout<6.0,>=4.0 in /usr/local/lib/python3.10/dist-packages (from aiohttp->datasets) (4.0.3)\n",
      "Requirement already satisfied: attrs>=17.3.0 in /usr/local/lib/python3.10/dist-packages (from aiohttp->datasets) (24.2.0)\n",
      "Requirement already satisfied: frozenlist>=1.1.1 in /usr/local/lib/python3.10/dist-packages (from aiohttp->datasets) (1.5.0)\n",
      "Requirement already satisfied: multidict<7.0,>=4.5 in /usr/local/lib/python3.10/dist-packages (from aiohttp->datasets) (6.1.0)\n",
      "Requirement already satisfied: propcache>=0.2.0 in /usr/local/lib/python3.10/dist-packages (from aiohttp->datasets) (0.2.1)\n",
      "Requirement already satisfied: yarl<2.0,>=1.17.0 in /usr/local/lib/python3.10/dist-packages (from aiohttp->datasets) (1.18.3)\n",
      "Requirement already satisfied: typing-extensions>=3.7.4.3 in /usr/local/lib/python3.10/dist-packages (from huggingface-hub>=0.23.0->datasets) (4.12.2)\n",
      "Requirement already satisfied: charset-normalizer<4,>=2 in /usr/local/lib/python3.10/dist-packages (from requests>=2.32.2->datasets) (3.4.0)\n",
      "Requirement already satisfied: idna<4,>=2.5 in /usr/local/lib/python3.10/dist-packages (from requests>=2.32.2->datasets) (3.10)\n",
      "Requirement already satisfied: urllib3<3,>=1.21.1 in /usr/local/lib/python3.10/dist-packages (from requests>=2.32.2->datasets) (2.2.3)\n",
      "Requirement already satisfied: certifi>=2017.4.17 in /usr/local/lib/python3.10/dist-packages (from requests>=2.32.2->datasets) (2024.8.30)\n",
      "Requirement already satisfied: python-dateutil>=2.8.2 in /usr/local/lib/python3.10/dist-packages (from pandas->datasets) (2.8.2)\n",
      "Requirement already satisfied: pytz>=2020.1 in /usr/local/lib/python3.10/dist-packages (from pandas->datasets) (2024.2)\n",
      "Requirement already satisfied: tzdata>=2022.7 in /usr/local/lib/python3.10/dist-packages (from pandas->datasets) (2024.2)\n",
      "Requirement already satisfied: six>=1.5 in /usr/local/lib/python3.10/dist-packages (from python-dateutil>=2.8.2->pandas->datasets) (1.17.0)\n"
     ]
    }
   ],
   "source": [
    "!pip install datasets"
   ]
  },
  {
   "cell_type": "code",
   "execution_count": null,
   "metadata": {},
   "outputs": [
    {
     "name": "stderr",
     "output_type": "stream",
     "text": [
      "/usr/local/lib/python3.10/dist-packages/huggingface_hub/utils/_auth.py:94: UserWarning: \n",
      "The secret `HF_TOKEN` does not exist in your Colab secrets.\n",
      "To authenticate with the Hugging Face Hub, create a token in your settings tab (https://huggingface.co/settings/tokens), set it as secret in your Google Colab and restart your session.\n",
      "You will be able to reuse this secret in all of your notebooks.\n",
      "Please note that authentication is recommended but still optional to access public models or datasets.\n",
      "  warnings.warn(\n"
     ]
    },
    {
     "name": "stdout",
     "output_type": "stream",
     "text": [
      "Dataset Features:\n",
      "DatasetDict({\n",
      "    train: Dataset({\n",
      "        features: ['id', 'tokens', 'pos_tags', 'chunk_tags', 'ner_tags'],\n",
      "        num_rows: 14041\n",
      "    })\n",
      "    validation: Dataset({\n",
      "        features: ['id', 'tokens', 'pos_tags', 'chunk_tags', 'ner_tags'],\n",
      "        num_rows: 3250\n",
      "    })\n",
      "    test: Dataset({\n",
      "        features: ['id', 'tokens', 'pos_tags', 'chunk_tags', 'ner_tags'],\n",
      "        num_rows: 3453\n",
      "    })\n",
      "})\n",
      "\n",
      "Sample Data:\n",
      "{'id': '0', 'tokens': ['EU', 'rejects', 'German', 'call', 'to', 'boycott', 'British', 'lamb', '.'], 'pos_tags': [22, 42, 16, 21, 35, 37, 16, 21, 7], 'chunk_tags': [11, 21, 11, 12, 21, 22, 11, 12, 0], 'ner_tags': [3, 0, 7, 0, 0, 0, 7, 0, 0]}\n"
     ]
    }
   ],
   "source": [
    "from datasets import load_dataset\n",
    "\n",
    "# Load the CoNLL2003 dataset\n",
    "dataset = load_dataset(\"eriktks/conll2003\")\n",
    "\n",
    "# Display the dataset structure\n",
    "print(\"Dataset Features:\")\n",
    "print(dataset)\n",
    "\n",
    "# Display the first example for inspection\n",
    "print(\"\\nSample Data:\")\n",
    "print(dataset['train'][0])\n"
   ]
  },
  {
   "cell_type": "code",
   "execution_count": null,
   "metadata": {},
   "outputs": [
    {
     "name": "stdout",
     "output_type": "stream",
     "text": [
      "\n",
      "Features in the dataset:\n",
      "{'id': Value(dtype='string', id=None), 'tokens': Sequence(feature=Value(dtype='string', id=None), length=-1, id=None), 'pos_tags': Sequence(feature=ClassLabel(names=['\"', \"''\", '#', '$', '(', ')', ',', '.', ':', '``', 'CC', 'CD', 'DT', 'EX', 'FW', 'IN', 'JJ', 'JJR', 'JJS', 'LS', 'MD', 'NN', 'NNP', 'NNPS', 'NNS', 'NN|SYM', 'PDT', 'POS', 'PRP', 'PRP$', 'RB', 'RBR', 'RBS', 'RP', 'SYM', 'TO', 'UH', 'VB', 'VBD', 'VBG', 'VBN', 'VBP', 'VBZ', 'WDT', 'WP', 'WP$', 'WRB'], id=None), length=-1, id=None), 'chunk_tags': Sequence(feature=ClassLabel(names=['O', 'B-ADJP', 'I-ADJP', 'B-ADVP', 'I-ADVP', 'B-CONJP', 'I-CONJP', 'B-INTJ', 'I-INTJ', 'B-LST', 'I-LST', 'B-NP', 'I-NP', 'B-PP', 'I-PP', 'B-PRT', 'I-PRT', 'B-SBAR', 'I-SBAR', 'B-UCP', 'I-UCP', 'B-VP', 'I-VP'], id=None), length=-1, id=None), 'ner_tags': Sequence(feature=ClassLabel(names=['O', 'B-PER', 'I-PER', 'B-ORG', 'I-ORG', 'B-LOC', 'I-LOC', 'B-MISC', 'I-MISC'], id=None), length=-1, id=None)}\n",
      "\n",
      "Tag Categories in the Dataset:\n",
      "NER Tags: ['O', 'B-PER', 'I-PER', 'B-ORG', 'I-ORG', 'B-LOC', 'I-LOC', 'B-MISC', 'I-MISC']\n",
      "\n",
      "Other Tags:\n",
      "Additional Tag Column: pos_tags\n",
      "[[22, 42, 16, 21, 35, 37, 16, 21, 7], [22, 22], [22, 11], [12, 22, 22, 38, 15, 22, 28, 38, 15, 16, 21, 35, 24, 35, 37, 16, 21, 15, 24, 41, 15, 16, 21, 21, 20, 37, 40, 35, 21, 7], [22, 27, 21, 35, 12, 22, 22, 27, 16, 21, 22, 22, 38, 15, 22, 24, 20, 37, 21, 15, 24, 16, 15, 22, 15, 12, 16, 21, 38, 17, 7]]\n",
      "Additional Tag Column: chunk_tags\n",
      "[[11, 21, 11, 12, 21, 22, 11, 12, 0], [11, 12], [11, 12], [11, 12, 12, 21, 13, 11, 11, 21, 13, 11, 12, 13, 11, 21, 22, 11, 12, 17, 11, 21, 17, 11, 12, 12, 21, 22, 22, 13, 11, 0], [11, 11, 12, 13, 11, 12, 12, 11, 12, 12, 12, 12, 21, 13, 11, 12, 21, 22, 11, 13, 11, 1, 13, 11, 17, 11, 12, 12, 21, 1, 0]]\n"
     ]
    }
   ],
   "source": [
    "# Check the features of the dataset\n",
    "print(\"\\nFeatures in the dataset:\")\n",
    "print(dataset['train'].features)\n",
    "\n",
    "# Examine tags other than NER\n",
    "print(\"\\nTag Categories in the Dataset:\")\n",
    "if 'ner_tags' in dataset['train'].features:\n",
    "    print(\"NER Tags:\", dataset['train'].features['ner_tags'].feature.names)\n",
    "\n",
    "# Check if there are other tag columns\n",
    "columns = dataset['train'].column_names\n",
    "print(\"\\nOther Tags:\")\n",
    "for column in columns:\n",
    "    if column not in ['ner_tags', 'tokens', 'id']:\n",
    "        print(f\"Additional Tag Column: {column}\")\n",
    "        print(dataset['train'][column][0:5])  # Show a sample\n"
   ]
  },
  {
   "cell_type": "markdown",
   "metadata": {},
   "source": [
    "<div dir=\"rtl\" style=\"font-family: Vazir; width: 85%; font-size: 16px\">\n",
    "\n",
    "## پاسخ ج و د:\n",
    "\n",
    "---\n"
   ]
  },
  {
   "cell_type": "markdown",
   "metadata": {},
   "source": [
    "## Part C: Constructing the `vocab` Class\n",
    "\n",
    "Implement a class for vocabulary management, including methods for token-to-ID mapping, ID-to-token mapping, displaying vocabulary size, and handling a cutoff threshold.\n",
    "\n",
    "\\\n",
    "To build a vocabulary class:\n",
    "\n",
    "    1. Map tokens to unique IDs.\n",
    "    2. Add special tokens: <pad>, <unk>, <s>, </s>.\n",
    "    3. Ignore tokens with a frequency less than cutoff=5.\n",
    "\\\n",
    "\n",
    "### Expected Outputs\n",
    "\n",
    "**Vocabulary Size:** The total number of tokens in the vocabulary after applying the cutoff.\n",
    "\n",
    "**ID of 'quick':** The assigned ID for the token \"quick\".\n",
    "\n",
    "**Token for ID 0:** The token corresponding to ID 0, which is usually `<pad>` or the first special token added.\n",
    "\n",
    "---"
   ]
  },
  {
   "cell_type": "code",
   "execution_count": null,
   "metadata": {},
   "outputs": [
    {
     "name": "stdout",
     "output_type": "stream",
     "text": [
      "\n",
      "Vocabulary Size: 4917\n",
      "ID for token 'quick': 2387\n",
      "Token with ID 0: <pad>\n"
     ]
    }
   ],
   "source": [
    "from collections import Counter\n",
    "from typing import List\n",
    "\n",
    "class Vocab:\n",
    "    def __init__(self, cutoff: int = 5):\n",
    "        self.token_to_id = {}\n",
    "        self.id_to_token = {}\n",
    "        self.cutoff = cutoff\n",
    "\n",
    "    def build_vocab(self, dataset, special_tokens: List[str] = None):\n",
    "        # Flatten the tokens from the dataset\n",
    "        all_tokens = [token for example in dataset['tokens'] for token in example]\n",
    "\n",
    "        # Count token frequencies\n",
    "        token_counts = Counter(all_tokens)\n",
    "\n",
    "        # Add special tokens\n",
    "        if special_tokens:\n",
    "            for token in special_tokens:\n",
    "                self.token_to_id[token] = len(self.token_to_id)\n",
    "\n",
    "        # Add tokens with frequency >= cutoff\n",
    "        for token, count in token_counts.items():\n",
    "            if count >= self.cutoff and token not in self.token_to_id:\n",
    "                self.token_to_id[token] = len(self.token_to_id)\n",
    "\n",
    "        # Create ID-to-token mapping\n",
    "        self.id_to_token = {id_: token for token, id_ in self.token_to_id.items()}\n",
    "\n",
    "    def token_to_id_mapping(self, token):\n",
    "        # Return ID of the token or <unk> if token not found\n",
    "        return self.token_to_id.get(token, self.token_to_id.get('<unk>'))\n",
    "\n",
    "    def id_to_token_mapping(self, id_):\n",
    "        # Return token for the given ID or <unk> if ID not found\n",
    "        return self.id_to_token.get(id_, '<unk>')\n",
    "\n",
    "    def size(self):\n",
    "        # Return the size of the vocabulary\n",
    "        return len(self.token_to_id)\n",
    "\n",
    "# Build and display the vocabulary\n",
    "vocab = Vocab(cutoff=5)\n",
    "vocab.build_vocab(dataset['train'], special_tokens=[\"<pad>\", \"<unk>\", \"<s>\", \"</s>\"])\n",
    "\n",
    "# Display the vocabulary size\n",
    "print(\"\\nVocabulary Size:\", vocab.size())\n",
    "\n",
    "# Check the token ID of 'quick'\n",
    "print(\"ID for token 'quick':\", vocab.token_to_id_mapping('quick'))\n",
    "\n",
    "# Check the token with ID 0\n",
    "print(\"Token with ID 0:\", vocab.id_to_token_mapping(0))\n"
   ]
  },
  {
   "cell_type": "markdown",
   "metadata": {},
   "source": [
    "<div dir=\"rtl\" style=\"font-family: Vazir; width: 85%; font-size: 16px\">\n",
    "\n",
    "*بخش اول:*\n",
    "\n",
    "---\n",
    "\n",
    "## پاسح الف و ب:\n",
    "\n",
    "---\n",
    "\n"
   ]
  },
  {
   "cell_type": "markdown",
   "metadata": {},
   "source": [
    "\n",
    "\n",
    "### Explanation\n",
    "\n",
    "*Collate Function:*\n",
    "\n",
    "    Pads all sequences in a batch to the same length using pad_sequence.\n",
    "    Creates attention masks to distinguish between real tokens and padding tokens.\n",
    "    Returns padded tokens, tags, and attention masks.\n",
    "\n",
    "*DataLoader:*\n",
    "\n",
    "    Automatically batches data and uses the custom collate_fn for preprocessing.\n",
    "    Shuffles the training data while keeping validation data fixed.\n",
    "\n",
    "*Output Shapes:*\n",
    "\n",
    "    Tokens: Shape is (batch_size, max_sequence_length) after padding.\n",
    "    Tags: Same shape as tokens, with padding for tags set to -1.\n",
    "    Attention Masks: Binary tensor of the same shape, where 1 indicates a real token, and 0 indicates padding.\n",
    "\n",
    "\n",
    "---\n",
    "\n",
    "Using collate_fn to pad sentences to the maximum length within each batch, rather than padding all sentences to the length of the longest sentence in the dataset, offers the following advantages:\n",
    "\n",
    "* Memory Efficiency: By padding sentences only to the maximum length within each batch, the data size is reduced, leading to more efficient memory usage.\n",
    "\n",
    "* Reduced Processing Time: Shorter sentences take less time to process, which increases the overall efficiency of the model.\n",
    "\n",
    "* Improved Model Performance: Padding sentences to the length of the longest sentence in the dataset can add many <pad> tokens, potentially introducing noise and reducing the quality of model training. Using collate_fn mitigates this issue, resulting in better model training.\n",
    "\n",
    "---"
   ]
  },
  {
   "cell_type": "code",
   "execution_count": null,
   "metadata": {},
   "outputs": [
    {
     "name": "stdout",
     "output_type": "stream",
     "text": [
      "Sample from Train Dataset:\n",
      "{'id': '0', 'tokens': ['EU', 'rejects', 'German', 'call', 'to', 'boycott', 'British', 'lamb', '.'], 'pos_tags': [22, 42, 16, 21, 35, 37, 16, 21, 7], 'chunk_tags': [11, 21, 11, 12, 21, 22, 11, 12, 0], 'ner_tags': [3, 0, 7, 0, 0, 0, 7, 0, 0]}\n"
     ]
    }
   ],
   "source": [
    "from datasets import load_dataset\n",
    "from torch.utils.data import DataLoader\n",
    "import torch\n",
    "import torch.nn as nn\n",
    "\n",
    "# Load the dataset\n",
    "dataset = load_dataset(\"eriktks/conll2003\")\n",
    "\n",
    "# Split into train and validation sets\n",
    "train_data = dataset['train']\n",
    "validation_data = dataset['validation']\n",
    "\n",
    "# Display the first example from the train dataset\n",
    "print(\"Sample from Train Dataset:\")\n",
    "print(train_data[0])\n"
   ]
  },
  {
   "cell_type": "markdown",
   "metadata": {},
   "source": [
    "### Collate Function for Padding"
   ]
  },
  {
   "cell_type": "code",
   "execution_count": null,
   "metadata": {},
   "outputs": [],
   "source": [
    "def pad_sequence(sequence, max_len, pad_token_id):\n",
    "    return sequence + [pad_token_id] * (max_len - len(sequence))\n",
    "\n",
    "def collate_fn(batch):\n",
    "    \"\"\"\n",
    "    Custom collate function to pad sentences and create input-output pairs.\n",
    "    \"\"\"\n",
    "    tokens = [item['tokens'] for item in batch]\n",
    "    tags = [item['ner_tags'] for item in batch]\n",
    "\n",
    "    token_ids = [[vocab.token_to_id_mapping(token) for token in token_list] for token_list in tokens]\n",
    "    max_len = max(len(token_id) for token_id in token_ids)\n",
    "    pad_token_id = vocab.token_to_id_mapping('<pad>')\n",
    "\n",
    "    # Pad sequences to the same length\n",
    "    padded_tokens = torch.tensor([pad_sequence(token_id, max_len, pad_token_id) for token_id in token_ids])\n",
    "    padded_tags = torch.tensor([pad_sequence(tag_list, max_len, 9) for tag_list in tags])\n",
    "\n",
    "    # Create attention masks (1 for real tokens, 0 for padding)\n",
    "    attention_masks = (padded_tokens != pad_token_id).long()\n",
    "\n",
    "    return padded_tokens, padded_tags, attention_masks\n",
    "\n"
   ]
  },
  {
   "cell_type": "code",
   "execution_count": null,
   "metadata": {},
   "outputs": [],
   "source": [
    "# print(vocab.token_to_id_mapping('<pad>'))"
   ]
  },
  {
   "cell_type": "markdown",
   "metadata": {},
   "source": [
    "### DataLoaders"
   ]
  },
  {
   "cell_type": "code",
   "execution_count": null,
   "metadata": {},
   "outputs": [
    {
     "name": "stderr",
     "output_type": "stream",
     "text": [
      "/usr/local/lib/python3.10/dist-packages/torch/utils/data/dataloader.py:617: UserWarning: This DataLoader will create 4 worker processes in total. Our suggested max number of worker in current system is 2, which is smaller than what this DataLoader is going to create. Please be aware that excessive worker creation might get DataLoader running slow or even freeze, lower the worker number to avoid potential slowness/freeze if necessary.\n",
      "  warnings.warn(\n"
     ]
    },
    {
     "name": "stdout",
     "output_type": "stream",
     "text": [
      "Train Batch Shapes:\n",
      "Tokens: torch.Size([32, 41])\n",
      "Tags: torch.Size([32, 41])\n",
      "Attention Masks: torch.Size([32, 41])\n",
      "\n",
      "Validation Batch Shapes:\n",
      "Tokens: torch.Size([32, 41])\n",
      "Tags: torch.Size([32, 41])\n",
      "Attention Masks: torch.Size([32, 41])\n"
     ]
    }
   ],
   "source": [
    "# Create DataLoaders\n",
    "batch_size = 32\n",
    "\n",
    "train_loader = DataLoader(train_data, batch_size=batch_size, shuffle=True, collate_fn=collate_fn, num_workers=4)\n",
    "validation_loader = DataLoader(validation_data, batch_size=batch_size, shuffle=False, collate_fn=collate_fn, num_workers=4)\n",
    "\n",
    "# Display the shape of the first batch\n",
    "train_batch = next(iter(train_loader))\n",
    "val_batch = next(iter(validation_loader))\n",
    "\n",
    "print(\"Train Batch Shapes:\")\n",
    "print(\"Tokens:\", train_batch[0].shape)\n",
    "print(\"Tags:\", train_batch[1].shape)\n",
    "print(\"Attention Masks:\", train_batch[2].shape)\n",
    "\n",
    "print(\"\\nValidation Batch Shapes:\")\n",
    "print(\"Tokens:\", val_batch[0].shape)\n",
    "print(\"Tags:\", val_batch[1].shape)\n",
    "print(\"Attention Masks:\", val_batch[2].shape)\n"
   ]
  },
  {
   "cell_type": "markdown",
   "metadata": {},
   "source": [
    "<div dir=\"rtl\" style=\"font-family: Vazir; width: 85%; font-size: 16px\">\n",
    "\n",
    "## *بخش دوم:*\n",
    "\n",
    "---\n",
    "\n",
    "(الف) تا (ج)\n",
    "\n",
    "---\n",
    "\n",
    "\n",
    "## الف"
   ]
  },
  {
   "cell_type": "code",
   "execution_count": null,
   "metadata": {},
   "outputs": [],
   "source": [
    "class RNNCell(nn.Module):\n",
    "    def __init__(self, input_size, hidden_size):\n",
    "        super(RNNCell, self).__init__()\n",
    "        self.input_size = input_size\n",
    "        self.hidden_size = hidden_size\n",
    "\n",
    "        # Parameters for the RNN cell\n",
    "        self.W_xh = nn.Linear(input_size, hidden_size)\n",
    "        self.W_hh = nn.Linear(hidden_size, hidden_size)\n",
    "\n",
    "    def forward(self, x, hidden):\n",
    "        \"\"\"\n",
    "        x: (batch_size, input_size)\n",
    "        hidden: (batch_size, hidden_size)\n",
    "        \"\"\"\n",
    "        h_next = torch.tanh(self.W_xh(x) + self.W_hh(hidden))\n",
    "        return h_next\n",
    "\n",
    "\n",
    "class BiRNN(nn.Module):\n",
    "    def __init__(self, input_size, hidden_size):\n",
    "        super(BiRNN, self).__init__()\n",
    "        self.hidden_size = hidden_size\n",
    "\n",
    "        # Forward and backward RNN cells\n",
    "        self.forward_rnn = RNNCell(input_size, hidden_size)\n",
    "        self.backward_rnn = RNNCell(input_size, hidden_size)\n",
    "\n",
    "\n",
    "    def forward(self, x):\n",
    "        \"\"\"\n",
    "        x: (batch_size, seq_len, input_size)\n",
    "        \"\"\"\n",
    "        batch_size, seq_len, _ = x.size()\n",
    "\n",
    "        # Initialize hidden states for forward and backward RNNs\n",
    "        h_forward = torch.zeros(batch_size, self.hidden_size, device=x.device)\n",
    "        h_backward = torch.zeros(batch_size, self.hidden_size, device=x.device)\n",
    "\n",
    "        # Forward pass\n",
    "        forward_outputs = []\n",
    "        for t in range(seq_len):\n",
    "            h_forward = self.forward_rnn(x[:, t, :], h_forward)\n",
    "            forward_outputs.append(h_forward)\n",
    "\n",
    "        # Backward pass\n",
    "        backward_outputs = []\n",
    "        for t in reversed(range(seq_len)):\n",
    "            h_backward = self.backward_rnn(x[:, t, :], h_backward)\n",
    "            backward_outputs.append(h_backward)\n",
    "\n",
    "        # Reverse backward outputs to match forward outputs\n",
    "        backward_outputs.reverse()\n",
    "\n",
    "        # Concatenate forward and backward hidden states\n",
    "        forward_outputs = torch.stack(forward_outputs, dim=1)  # (batch_size, seq_len, hidden_size)\n",
    "        backward_outputs = torch.stack(backward_outputs, dim=1)  # (batch_size, seq_len, hidden_size)\n",
    "        outputs = torch.cat([forward_outputs, backward_outputs], dim=2)  # (batch_size, seq_len, hidden_size*2)\n",
    "\n",
    "        return outputs\n"
   ]
  },
  {
   "cell_type": "markdown",
   "metadata": {},
   "source": [
    "## ب"
   ]
  },
  {
   "cell_type": "code",
   "execution_count": null,
   "metadata": {},
   "outputs": [],
   "source": [
    "class LSTMCell(nn.Module):\n",
    "    def __init__(self, input_size, hidden_size):\n",
    "        super(LSTMCell, self).__init__()\n",
    "        self.input_size = input_size\n",
    "        self.hidden_size = hidden_size\n",
    "\n",
    "        # Input gate weights\n",
    "        self.W_i = nn.Linear(input_size + hidden_size, hidden_size)\n",
    "        # Forget gate weights\n",
    "        self.W_f = nn.Linear(input_size + hidden_size, hidden_size)\n",
    "        # Output gate weights\n",
    "        self.W_o = nn.Linear(input_size + hidden_size, hidden_size)\n",
    "        # Candidate cell state weights\n",
    "        self.W_c = nn.Linear(input_size + hidden_size, hidden_size)\n",
    "\n",
    "    def forward(self, x, hidden):\n",
    "        h_prev, c_prev = hidden\n",
    "        combined = torch.cat((x, h_prev), dim=1)\n",
    "\n",
    "        # Gates and candidate cell state\n",
    "        i = torch.sigmoid(self.W_i(combined))  # Input gate\n",
    "        f = torch.sigmoid(self.W_f(combined))  # Forget gate\n",
    "        o = torch.sigmoid(self.W_o(combined))  # Output gate\n",
    "        c_tilde = torch.tanh(self.W_c(combined))  # Candidate cell state\n",
    "\n",
    "        # Cell state and hidden state updates\n",
    "        c_next = f * c_prev + i * c_tilde\n",
    "        h_next = o * torch.tanh(c_next)\n",
    "\n",
    "        return h_next, c_next\n",
    "\n",
    "\n",
    "class BiLSTM(nn.Module):\n",
    "    def __init__(self, input_size, hidden_size):\n",
    "        super(BiLSTM, self).__init__()\n",
    "        self.hidden_size = hidden_size\n",
    "\n",
    "        # Forward and backward LSTM cells\n",
    "        self.forward_lstm = LSTMCell(input_size, hidden_size)\n",
    "        self.backward_lstm = LSTMCell(input_size, hidden_size)\n",
    "\n",
    "    def forward(self, x):\n",
    "        batch_size, seq_len, _ = x.size()\n",
    "\n",
    "        # Initialize hidden states and cell states\n",
    "        h_forward = torch.zeros(batch_size, self.hidden_size, device=x.device)\n",
    "        c_forward = torch.zeros(batch_size, self.hidden_size, device=x.device)\n",
    "\n",
    "        h_backward = torch.zeros(batch_size, self.hidden_size, device=x.device)\n",
    "        c_backward = torch.zeros(batch_size, self.hidden_size, device=x.device)\n",
    "\n",
    "        # Forward LSTM pass\n",
    "        forward_outputs = []\n",
    "        for t in range(seq_len):\n",
    "            h_forward, c_forward = self.forward_lstm(x[:, t, :], (h_forward, c_forward))\n",
    "            forward_outputs.append(h_forward)\n",
    "\n",
    "        # Backward LSTM pass\n",
    "        backward_outputs = []\n",
    "        for t in reversed(range(seq_len)):\n",
    "            h_backward, c_backward = self.backward_lstm(x[:, t, :], (h_backward, c_backward))\n",
    "            backward_outputs.append(h_backward)\n",
    "\n",
    "        # Reverse backward outputs to align with forward outputs\n",
    "        backward_outputs.reverse()\n",
    "\n",
    "        # Concatenate forward and backward outputs\n",
    "        forward_outputs = torch.stack(forward_outputs, dim=1)  # (batch_size, seq_len, hidden_size)\n",
    "        backward_outputs = torch.stack(backward_outputs, dim=1)  # (batch_size, seq_len, hidden_size)\n",
    "        outputs = torch.cat([forward_outputs, backward_outputs], dim=2)  # (batch_size, seq_len, hidden_size * 2)\n",
    "\n",
    "        return outputs\n"
   ]
  },
  {
   "cell_type": "markdown",
   "metadata": {},
   "source": [
    "## ج"
   ]
  },
  {
   "cell_type": "code",
   "execution_count": null,
   "metadata": {},
   "outputs": [],
   "source": [
    "import torch.optim as optim\n",
    "from sklearn.metrics import classification_report\n",
    "import matplotlib.pyplot as plt\n",
    "from torch.utils.data import DataLoader, TensorDataset\n",
    "\n",
    "class GRUCell(nn.Module):\n",
    "    def __init__(self, input_size, hidden_size):\n",
    "        super(GRUCell, self).__init__()\n",
    "        self.input_size = input_size\n",
    "        self.hidden_size = hidden_size\n",
    "\n",
    "        # Update gate weights\n",
    "        self.W_z = nn.Linear(input_size + hidden_size, hidden_size)\n",
    "        # Reset gate weights\n",
    "        self.W_r = nn.Linear(input_size + hidden_size, hidden_size)\n",
    "        # Candidate hidden state weights\n",
    "        self.W_h = nn.Linear(input_size + hidden_size, hidden_size)\n",
    "\n",
    "    def forward(self, x, hidden):\n",
    "        combined = torch.cat((x, hidden), dim=1)\n",
    "\n",
    "        z = torch.sigmoid(self.W_z(combined))  # Update gate\n",
    "        r = torch.sigmoid(self.W_r(combined))  # Reset gate\n",
    "        h_tilde = torch.tanh(self.W_h(torch.cat((x, r * hidden), dim=1)))  # Candidate hidden state\n",
    "\n",
    "        h_next = (1 - z) * hidden + z * h_tilde\n",
    "\n",
    "        return h_next\n",
    "\n",
    "\n",
    "class BiGRU(nn.Module):\n",
    "    def __init__(self, input_size, hidden_size):\n",
    "        super(BiGRU, self).__init__()\n",
    "        self.hidden_size = hidden_size\n",
    "\n",
    "        # Forward and backward GRU cells\n",
    "        self.forward_gru = GRUCell(input_size, hidden_size)\n",
    "        self.backward_gru = GRUCell(input_size, hidden_size)\n",
    "\n",
    "\n",
    "    def forward(self, x):\n",
    "        # Input shape: (batch_size, seq_len, input_size)\n",
    "        batch_size, seq_len, _ = x.size()\n",
    "\n",
    "        # Initialize hidden states for forward and backward GRUs\n",
    "        h_forward = torch.zeros(batch_size, self.hidden_size, device=x.device)\n",
    "        h_backward = torch.zeros(batch_size, self.hidden_size, device=x.device)\n",
    "\n",
    "        # Forward GRU pass\n",
    "        forward_outputs = []\n",
    "        for t in range(seq_len):\n",
    "            h_forward = self.forward_gru(x[:, t, :], h_forward)\n",
    "            forward_outputs.append(h_forward)\n",
    "\n",
    "        # Backward GRU pass\n",
    "        backward_outputs = []\n",
    "        for t in reversed(range(seq_len)):\n",
    "            h_backward = self.backward_gru(x[:, t, :], h_backward)\n",
    "            backward_outputs.append(h_backward)\n",
    "\n",
    "        # Reverse backward outputs to align with forward outputs\n",
    "        backward_outputs.reverse()\n",
    "\n",
    "        # Concatenate forward and backward outputs\n",
    "        outputs = torch.cat([torch.stack(forward_outputs, dim=1), torch.stack(backward_outputs, dim=1)], dim=2)\n",
    "\n",
    "        # # Compute logits using fully connected layer\n",
    "        # logits = self.fc(outputs)  # (batch_size, seq_len, output_size)\n",
    "\n",
    "        return outputs\n"
   ]
  },
  {
   "cell_type": "code",
   "execution_count": null,
   "metadata": {},
   "outputs": [],
   "source": [
    "class NERModel(nn.Module):\n",
    "    def __init__(self, model, vocab_size, embedding_dim, hidden_dim, output_dim):\n",
    "        super(NERModel, self).__init__()\n",
    "        self.embedding = nn.Embedding(vocab_size, embedding_dim, padding_idx=0)  # padding_idx = 0 (ID <pad>)\n",
    "        self.model = model\n",
    "        self.fc = nn.Linear(hidden_dim * 2, output_dim)\n",
    "\n",
    "\n",
    "    def forward(self, x):\n",
    "        embedded = self.embedding(x)\n",
    "        model_out = self.model(embedded)\n",
    "        output = self.fc(model_out)\n",
    "        return output\n"
   ]
  },
  {
   "cell_type": "code",
   "execution_count": null,
   "metadata": {},
   "outputs": [
    {
     "name": "stdout",
     "output_type": "stream",
     "text": [
      "Number of output classes: 9\n"
     ]
    }
   ],
   "source": [
    "embedding_size = 64\n",
    "hidden_size = 64\n",
    "num_epochs = 10\n",
    "learning_rate = 0.001\n",
    "device = torch.device('cuda' if torch.cuda.is_available() else 'cpu')\n",
    "\n",
    "output_dim = len(set([tag for tags in dataset['train']['ner_tags'] for tag in tags]))\n",
    "ner_tag_names = {\n",
    "    0: \"O\",\n",
    "    1: \"B-PER\",\n",
    "    2: \"I-PER\",\n",
    "    3: \"B-ORG\",\n",
    "    4: \"I-ORG\",\n",
    "    5: \"B-LOC\",\n",
    "    6: \"I-LOC\",\n",
    "    7: \"B-MISC\",\n",
    "    8: \"I-MISC\"\n",
    "}\n",
    "vocab_size = vocab.size()\n",
    "\n",
    "print(f\"Number of output classes: {output_dim}\")\n"
   ]
  },
  {
   "cell_type": "markdown",
   "metadata": {},
   "source": [
    "## نتایج"
   ]
  },
  {
   "cell_type": "code",
   "execution_count": null,
   "metadata": {},
   "outputs": [],
   "source": [
    "from tqdm import tqdm\n",
    "\n",
    "\n",
    "def train_and_evaluate(model):\n",
    "\n",
    "    train_losses = []\n",
    "    val_losses = []\n",
    "    train_accuracies = []\n",
    "    val_accuracies = []\n",
    "\n",
    "    criterion = nn.CrossEntropyLoss(ignore_index=9)  # ignore_index = 0 (ID <pad>)\n",
    "    optimizer = torch.optim.Adam(model.parameters(), lr=1e-3)\n",
    "\n",
    "\n",
    "    # Move model and criterion to the device\n",
    "    model = model.to(device)\n",
    "    criterion = criterion.to(device)\n",
    "\n",
    "    for epoch in range(num_epochs):\n",
    "        model.train()\n",
    "        train_loss = 0\n",
    "        correct_predictions = 0\n",
    "        total_predictions = 0\n",
    "\n",
    "        for batch in tqdm(train_loader):\n",
    "            tokens, tags, _ = batch\n",
    "            tokens, tags = tokens.to(device), tags.to(device)  # Move batch to device\n",
    "            optimizer.zero_grad()\n",
    "            outputs = model(tokens)\n",
    "            loss = criterion(outputs.view(-1, output_dim), tags.view(-1))\n",
    "            loss.backward()\n",
    "            optimizer.step()\n",
    "            train_loss += loss.item()\n",
    "\n",
    "            predictions = torch.argmax(outputs, dim=-1)\n",
    "            mask = tags != 9\n",
    "            correct_predictions += (predictions[mask] == tags[mask]).sum().item()\n",
    "            total_predictions += mask.sum().item()\n",
    "\n",
    "        train_losses.append(train_loss / len(train_loader))\n",
    "        train_accuracies.append(correct_predictions / total_predictions)\n",
    "\n",
    "        model.eval()\n",
    "        val_loss = 0\n",
    "        correct_predictions = 0\n",
    "        total_predictions = 0\n",
    "\n",
    "        with torch.no_grad():\n",
    "            for batch in validation_loader:\n",
    "                tokens, tags, _ = batch\n",
    "                tokens, tags = tokens.to(device), tags.to(device)  # Move batch to device\n",
    "                outputs = model(tokens)\n",
    "                loss = criterion(outputs.view(-1, output_dim), tags.view(-1))\n",
    "                val_loss += loss.item()\n",
    "\n",
    "                predictions = torch.argmax(outputs, dim=-1)\n",
    "                mask = tags != 9\n",
    "                correct_predictions += (predictions[mask] == tags[mask]).sum().item()\n",
    "                total_predictions += mask.sum().item()\n",
    "\n",
    "        val_losses.append(val_loss / len(validation_loader))\n",
    "        val_accuracies.append(correct_predictions / total_predictions)\n",
    "\n",
    "        print(f\"Epoch {epoch + 1}/{num_epochs}, Train Loss: {train_losses[-1]:.4f}, Train Acc: {train_accuracies[-1]:.4f}, Val Loss: {val_losses[-1]:.4f}, Val Acc: {val_accuracies[-1]:.4f}\")\n",
    "\n",
    "\n",
    "    plt.figure(figsize=(12, 5))\n",
    "\n",
    "    plt.subplot(1, 2, 1)\n",
    "    plt.plot(range(1, num_epochs + 1), train_losses, label='Train Loss')\n",
    "    plt.plot(range(1, num_epochs + 1), val_losses, label='Validation Loss')\n",
    "    plt.xlabel('Epoch')\n",
    "    plt.ylabel('Loss')\n",
    "    plt.legend()\n",
    "    plt.title('Training and Validation Loss')\n",
    "\n",
    "    plt.subplot(1, 2, 2)\n",
    "    plt.plot(range(1, num_epochs + 1), train_accuracies, label='Train Accuracy')\n",
    "    plt.plot(range(1, num_epochs + 1), val_accuracies, label='Validation Accuracy')\n",
    "    plt.xlabel('Epoch')\n",
    "    plt.ylabel('Accuracy')\n",
    "    plt.legend()\n",
    "    plt.title('Training and Validation Accuracy')\n",
    "\n",
    "    plt.show()\n",
    "\n",
    "    all_predictions = []\n",
    "    all_labels = []\n",
    "\n",
    "    model.eval()\n",
    "    with torch.no_grad():\n",
    "        for batch in validation_loader:\n",
    "            tokens, tags, _ = batch\n",
    "            tokens, tags = tokens.to(device), tags.to(device)\n",
    "            outputs = model(tokens)\n",
    "            predictions = torch.argmax(outputs, dim=-1)\n",
    "            mask = tags != 9\n",
    "\n",
    "            all_predictions.extend(predictions[mask].cpu().numpy())\n",
    "            all_labels.extend(tags[mask].cpu().numpy())\n",
    "\n",
    "    report = classification_report(all_labels, all_predictions, target_names=[ner_tag_names[i] for i in range(output_dim) if i != 9])\n",
    "    print(report)\n"
   ]
  },
  {
   "cell_type": "code",
   "execution_count": null,
   "metadata": {},
   "outputs": [
    {
     "name": "stderr",
     "output_type": "stream",
     "text": [
      "\r  0%|          | 0/439 [00:00<?, ?it/s]/usr/local/lib/python3.10/dist-packages/torch/utils/data/dataloader.py:617: UserWarning: This DataLoader will create 4 worker processes in total. Our suggested max number of worker in current system is 2, which is smaller than what this DataLoader is going to create. Please be aware that excessive worker creation might get DataLoader running slow or even freeze, lower the worker number to avoid potential slowness/freeze if necessary.\n",
      "  warnings.warn(\n",
      "100%|██████████| 439/439 [00:32<00:00, 13.71it/s]\n"
     ]
    },
    {
     "name": "stdout",
     "output_type": "stream",
     "text": [
      "Epoch 1/10, Train Loss: 0.6072, Train Acc: 0.8431, Val Loss: 0.4513, Val Acc: 0.8776\n"
     ]
    },
    {
     "name": "stderr",
     "output_type": "stream",
     "text": [
      "100%|██████████| 439/439 [00:29<00:00, 14.87it/s]\n"
     ]
    },
    {
     "name": "stdout",
     "output_type": "stream",
     "text": [
      "Epoch 2/10, Train Loss: 0.3367, Train Acc: 0.9012, Val Loss: 0.3062, Val Acc: 0.9116\n"
     ]
    },
    {
     "name": "stderr",
     "output_type": "stream",
     "text": [
      "100%|██████████| 439/439 [00:24<00:00, 18.02it/s]\n"
     ]
    },
    {
     "name": "stdout",
     "output_type": "stream",
     "text": [
      "Epoch 3/10, Train Loss: 0.2319, Train Acc: 0.9314, Val Loss: 0.2394, Val Acc: 0.9308\n"
     ]
    },
    {
     "name": "stderr",
     "output_type": "stream",
     "text": [
      "100%|██████████| 439/439 [00:24<00:00, 17.90it/s]\n"
     ]
    },
    {
     "name": "stdout",
     "output_type": "stream",
     "text": [
      "Epoch 4/10, Train Loss: 0.1778, Train Acc: 0.9469, Val Loss: 0.2200, Val Acc: 0.9339\n"
     ]
    },
    {
     "name": "stderr",
     "output_type": "stream",
     "text": [
      "100%|██████████| 439/439 [00:25<00:00, 17.40it/s]\n"
     ]
    },
    {
     "name": "stdout",
     "output_type": "stream",
     "text": [
      "Epoch 5/10, Train Loss: 0.1464, Train Acc: 0.9569, Val Loss: 0.1966, Val Acc: 0.9421\n"
     ]
    },
    {
     "name": "stderr",
     "output_type": "stream",
     "text": [
      "100%|██████████| 439/439 [00:23<00:00, 19.06it/s]\n"
     ]
    },
    {
     "name": "stdout",
     "output_type": "stream",
     "text": [
      "Epoch 6/10, Train Loss: 0.1266, Train Acc: 0.9624, Val Loss: 0.1792, Val Acc: 0.9474\n"
     ]
    },
    {
     "name": "stderr",
     "output_type": "stream",
     "text": [
      "100%|██████████| 439/439 [00:22<00:00, 19.61it/s]\n"
     ]
    },
    {
     "name": "stdout",
     "output_type": "stream",
     "text": [
      "Epoch 7/10, Train Loss: 0.1113, Train Acc: 0.9670, Val Loss: 0.1740, Val Acc: 0.9477\n"
     ]
    },
    {
     "name": "stderr",
     "output_type": "stream",
     "text": [
      "100%|██████████| 439/439 [00:24<00:00, 18.20it/s]\n"
     ]
    },
    {
     "name": "stdout",
     "output_type": "stream",
     "text": [
      "Epoch 8/10, Train Loss: 0.0996, Train Acc: 0.9706, Val Loss: 0.1737, Val Acc: 0.9513\n"
     ]
    },
    {
     "name": "stderr",
     "output_type": "stream",
     "text": [
      "100%|██████████| 439/439 [00:22<00:00, 19.71it/s]\n"
     ]
    },
    {
     "name": "stdout",
     "output_type": "stream",
     "text": [
      "Epoch 9/10, Train Loss: 0.0900, Train Acc: 0.9735, Val Loss: 0.1653, Val Acc: 0.9527\n"
     ]
    },
    {
     "name": "stderr",
     "output_type": "stream",
     "text": [
      "100%|██████████| 439/439 [00:21<00:00, 20.45it/s]\n"
     ]
    },
    {
     "name": "stdout",
     "output_type": "stream",
     "text": [
      "Epoch 10/10, Train Loss: 0.0827, Train Acc: 0.9753, Val Loss: 0.1662, Val Acc: 0.9523\n"
     ]
    },
    {
     "data": {
      "image/png": "[encoded data removed]",
      "text/plain": [
       "<Figure size 1200x500 with 2 Axes>"
      ]
     },
     "metadata": {},
     "output_type": "display_data"
    },
    {
     "name": "stdout",
     "output_type": "stream",
     "text": [
      "              precision    recall  f1-score   support\n",
      "\n",
      "           O       0.97      0.99      0.98     42759\n",
      "       B-PER       0.83      0.81      0.82      1842\n",
      "       I-PER       0.89      0.84      0.86      1307\n",
      "       B-ORG       0.89      0.65      0.75      1341\n",
      "       I-ORG       0.83      0.66      0.74       751\n",
      "       B-LOC       0.87      0.81      0.84      1837\n",
      "       I-LOC       0.92      0.70      0.79       257\n",
      "      B-MISC       0.87      0.74      0.80       922\n",
      "      I-MISC       0.82      0.62      0.70       346\n",
      "\n",
      "    accuracy                           0.95     51362\n",
      "   macro avg       0.88      0.76      0.81     51362\n",
      "weighted avg       0.95      0.95      0.95     51362\n",
      "\n"
     ]
    }
   ],
   "source": [
    "recurrent_model = BiRNN(embedding_size, hidden_size).to(device)\n",
    "model = NERModel(recurrent_model, vocab_size, embedding_size, hidden_size, output_dim).to(device)\n",
    "\n",
    "train_and_evaluate(model)\n"
   ]
  },
  {
   "cell_type": "code",
   "execution_count": null,
   "metadata": {},
   "outputs": [
    {
     "name": "stderr",
     "output_type": "stream",
     "text": [
      "\r  0%|          | 0/439 [00:00<?, ?it/s]/usr/local/lib/python3.10/dist-packages/torch/utils/data/dataloader.py:617: UserWarning: This DataLoader will create 4 worker processes in total. Our suggested max number of worker in current system is 2, which is smaller than what this DataLoader is going to create. Please be aware that excessive worker creation might get DataLoader running slow or even freeze, lower the worker number to avoid potential slowness/freeze if necessary.\n",
      "  warnings.warn(\n",
      "100%|██████████| 439/439 [00:44<00:00,  9.77it/s]\n"
     ]
    },
    {
     "name": "stdout",
     "output_type": "stream",
     "text": [
      "Epoch 1/10, Train Loss: 0.6761, Train Acc: 0.8370, Val Loss: 0.5132, Val Acc: 0.8672\n"
     ]
    },
    {
     "name": "stderr",
     "output_type": "stream",
     "text": [
      "100%|██████████| 439/439 [00:43<00:00, 10.07it/s]\n"
     ]
    },
    {
     "name": "stdout",
     "output_type": "stream",
     "text": [
      "Epoch 2/10, Train Loss: 0.3528, Train Acc: 0.8971, Val Loss: 0.3078, Val Acc: 0.9148\n"
     ]
    },
    {
     "name": "stderr",
     "output_type": "stream",
     "text": [
      "100%|██████████| 439/439 [00:43<00:00, 10.02it/s]\n"
     ]
    },
    {
     "name": "stdout",
     "output_type": "stream",
     "text": [
      "Epoch 3/10, Train Loss: 0.2238, Train Acc: 0.9341, Val Loss: 0.2337, Val Acc: 0.9348\n"
     ]
    },
    {
     "name": "stderr",
     "output_type": "stream",
     "text": [
      "100%|██████████| 439/439 [00:43<00:00, 10.01it/s]\n"
     ]
    },
    {
     "name": "stdout",
     "output_type": "stream",
     "text": [
      "Epoch 4/10, Train Loss: 0.1655, Train Acc: 0.9518, Val Loss: 0.1992, Val Acc: 0.9422\n"
     ]
    },
    {
     "name": "stderr",
     "output_type": "stream",
     "text": [
      "100%|██████████| 439/439 [00:45<00:00,  9.70it/s]\n"
     ]
    },
    {
     "name": "stdout",
     "output_type": "stream",
     "text": [
      "Epoch 5/10, Train Loss: 0.1333, Train Acc: 0.9612, Val Loss: 0.1862, Val Acc: 0.9475\n"
     ]
    },
    {
     "name": "stderr",
     "output_type": "stream",
     "text": [
      "100%|██████████| 439/439 [00:44<00:00,  9.97it/s]\n"
     ]
    },
    {
     "name": "stdout",
     "output_type": "stream",
     "text": [
      "Epoch 6/10, Train Loss: 0.1114, Train Acc: 0.9674, Val Loss: 0.1722, Val Acc: 0.9506\n"
     ]
    },
    {
     "name": "stderr",
     "output_type": "stream",
     "text": [
      "100%|██████████| 439/439 [00:43<00:00,  9.98it/s]\n"
     ]
    },
    {
     "name": "stdout",
     "output_type": "stream",
     "text": [
      "Epoch 7/10, Train Loss: 0.0959, Train Acc: 0.9716, Val Loss: 0.1654, Val Acc: 0.9521\n"
     ]
    },
    {
     "name": "stderr",
     "output_type": "stream",
     "text": [
      "100%|██████████| 439/439 [00:44<00:00,  9.77it/s]\n"
     ]
    },
    {
     "name": "stdout",
     "output_type": "stream",
     "text": [
      "Epoch 8/10, Train Loss: 0.0833, Train Acc: 0.9756, Val Loss: 0.1634, Val Acc: 0.9541\n"
     ]
    },
    {
     "name": "stderr",
     "output_type": "stream",
     "text": [
      "100%|██████████| 439/439 [00:45<00:00,  9.72it/s]\n"
     ]
    },
    {
     "name": "stdout",
     "output_type": "stream",
     "text": [
      "Epoch 9/10, Train Loss: 0.0730, Train Acc: 0.9788, Val Loss: 0.1736, Val Acc: 0.9526\n"
     ]
    },
    {
     "name": "stderr",
     "output_type": "stream",
     "text": [
      "100%|██████████| 439/439 [00:45<00:00,  9.55it/s]\n"
     ]
    },
    {
     "name": "stdout",
     "output_type": "stream",
     "text": [
      "Epoch 10/10, Train Loss: 0.0634, Train Acc: 0.9816, Val Loss: 0.1775, Val Acc: 0.9504\n"
     ]
    },
    {
     "data": {
      "image/png": "[encoded data removed]",
      "text/plain": [
       "<Figure size 1200x500 with 2 Axes>"
      ]
     },
     "metadata": {},
     "output_type": "display_data"
    },
    {
     "name": "stdout",
     "output_type": "stream",
     "text": [
      "              precision    recall  f1-score   support\n",
      "\n",
      "           O       0.97      0.99      0.98     42759\n",
      "       B-PER       0.92      0.71      0.80      1842\n",
      "       I-PER       0.93      0.78      0.85      1307\n",
      "       B-ORG       0.80      0.71      0.75      1341\n",
      "       I-ORG       0.77      0.69      0.73       751\n",
      "       B-LOC       0.84      0.83      0.84      1837\n",
      "       I-LOC       0.64      0.76      0.70       257\n",
      "      B-MISC       0.89      0.74      0.81       922\n",
      "      I-MISC       0.75      0.63      0.68       346\n",
      "\n",
      "    accuracy                           0.95     51362\n",
      "   macro avg       0.83      0.76      0.79     51362\n",
      "weighted avg       0.95      0.95      0.95     51362\n",
      "\n"
     ]
    }
   ],
   "source": [
    "recurrent_model = BiLSTM(embedding_size, hidden_size).to(device)\n",
    "model = NERModel(recurrent_model, vocab_size, embedding_size, hidden_size, output_dim).to(device)\n",
    "\n",
    "train_and_evaluate(model)\n"
   ]
  },
  {
   "cell_type": "code",
   "execution_count": null,
   "metadata": {},
   "outputs": [
    {
     "name": "stderr",
     "output_type": "stream",
     "text": [
      "  0%|          | 0/439 [00:00<?, ?it/s]/usr/local/lib/python3.10/dist-packages/torch/utils/data/dataloader.py:617: UserWarning: This DataLoader will create 4 worker processes in total. Our suggested max number of worker in current system is 2, which is smaller than what this DataLoader is going to create. Please be aware that excessive worker creation might get DataLoader running slow or even freeze, lower the worker number to avoid potential slowness/freeze if necessary.\n",
      "  warnings.warn(\n",
      "100%|██████████| 439/439 [00:42<00:00, 10.21it/s]\n"
     ]
    },
    {
     "name": "stdout",
     "output_type": "stream",
     "text": [
      "Epoch 1/10, Train Loss: 0.6383, Train Acc: 0.8418, Val Loss: 0.4634, Val Acc: 0.8774\n"
     ]
    },
    {
     "name": "stderr",
     "output_type": "stream",
     "text": [
      "100%|██████████| 439/439 [00:42<00:00, 10.22it/s]\n"
     ]
    },
    {
     "name": "stdout",
     "output_type": "stream",
     "text": [
      "Epoch 2/10, Train Loss: 0.3280, Train Acc: 0.9049, Val Loss: 0.2945, Val Acc: 0.9162\n"
     ]
    },
    {
     "name": "stderr",
     "output_type": "stream",
     "text": [
      "100%|██████████| 439/439 [00:42<00:00, 10.36it/s]\n"
     ]
    },
    {
     "name": "stdout",
     "output_type": "stream",
     "text": [
      "Epoch 3/10, Train Loss: 0.2161, Train Acc: 0.9363, Val Loss: 0.2306, Val Acc: 0.9345\n"
     ]
    },
    {
     "name": "stderr",
     "output_type": "stream",
     "text": [
      "100%|██████████| 439/439 [00:42<00:00, 10.44it/s]\n"
     ]
    },
    {
     "name": "stdout",
     "output_type": "stream",
     "text": [
      "Epoch 4/10, Train Loss: 0.1612, Train Acc: 0.9527, Val Loss: 0.1942, Val Acc: 0.9433\n"
     ]
    },
    {
     "name": "stderr",
     "output_type": "stream",
     "text": [
      "100%|██████████| 439/439 [00:45<00:00,  9.67it/s]\n"
     ]
    },
    {
     "name": "stdout",
     "output_type": "stream",
     "text": [
      "Epoch 5/10, Train Loss: 0.1285, Train Acc: 0.9622, Val Loss: 0.1778, Val Acc: 0.9481\n"
     ]
    },
    {
     "name": "stderr",
     "output_type": "stream",
     "text": [
      "100%|██████████| 439/439 [00:42<00:00, 10.34it/s]\n"
     ]
    },
    {
     "name": "stdout",
     "output_type": "stream",
     "text": [
      "Epoch 6/10, Train Loss: 0.1069, Train Acc: 0.9685, Val Loss: 0.1661, Val Acc: 0.9514\n"
     ]
    },
    {
     "name": "stderr",
     "output_type": "stream",
     "text": [
      "100%|██████████| 439/439 [00:42<00:00, 10.23it/s]\n"
     ]
    },
    {
     "name": "stdout",
     "output_type": "stream",
     "text": [
      "Epoch 7/10, Train Loss: 0.0906, Train Acc: 0.9738, Val Loss: 0.1623, Val Acc: 0.9527\n"
     ]
    },
    {
     "name": "stderr",
     "output_type": "stream",
     "text": [
      "100%|██████████| 439/439 [00:43<00:00, 10.19it/s]\n"
     ]
    },
    {
     "name": "stdout",
     "output_type": "stream",
     "text": [
      "Epoch 8/10, Train Loss: 0.0766, Train Acc: 0.9774, Val Loss: 0.1662, Val Acc: 0.9532\n"
     ]
    },
    {
     "name": "stderr",
     "output_type": "stream",
     "text": [
      "100%|██████████| 439/439 [00:43<00:00, 10.13it/s]\n"
     ]
    },
    {
     "name": "stdout",
     "output_type": "stream",
     "text": [
      "Epoch 9/10, Train Loss: 0.0653, Train Acc: 0.9812, Val Loss: 0.1661, Val Acc: 0.9537\n"
     ]
    },
    {
     "name": "stderr",
     "output_type": "stream",
     "text": [
      "100%|██████████| 439/439 [00:43<00:00, 10.19it/s]\n"
     ]
    },
    {
     "name": "stdout",
     "output_type": "stream",
     "text": [
      "Epoch 10/10, Train Loss: 0.0546, Train Acc: 0.9844, Val Loss: 0.1668, Val Acc: 0.9530\n"
     ]
    },
    {
     "data": {
      "image/png": "[encoded data removed]",
      "text/plain": [
       "<Figure size 1200x500 with 2 Axes>"
      ]
     },
     "metadata": {},
     "output_type": "display_data"
    },
    {
     "name": "stdout",
     "output_type": "stream",
     "text": [
      "              precision    recall  f1-score   support\n",
      "\n",
      "           O       0.98      0.99      0.98     42759\n",
      "       B-PER       0.84      0.82      0.83      1842\n",
      "       I-PER       0.88      0.84      0.86      1307\n",
      "       B-ORG       0.79      0.72      0.76      1341\n",
      "       I-ORG       0.78      0.77      0.78       751\n",
      "       B-LOC       0.86      0.84      0.85      1837\n",
      "       I-LOC       0.69      0.78      0.73       257\n",
      "      B-MISC       0.83      0.75      0.79       922\n",
      "      I-MISC       0.84      0.62      0.71       346\n",
      "\n",
      "    accuracy                           0.95     51362\n",
      "   macro avg       0.83      0.79      0.81     51362\n",
      "weighted avg       0.95      0.95      0.95     51362\n",
      "\n"
     ]
    }
   ],
   "source": [
    "recurrent_model = BiGRU(embedding_size, hidden_size).to(device)\n",
    "model = NERModel(recurrent_model, vocab_size, embedding_size, hidden_size, output_dim).to(device)\n",
    "\n",
    "train_and_evaluate(model)\n"
   ]
  },
  {
   "cell_type": "markdown",
   "metadata": {},
   "source": [
    "## د"
   ]
  },
  {
   "cell_type": "markdown",
   "metadata": {},
   "source": [
    "Comparison of Results for RNN, LSTM, and GRU:\n",
    "\n",
    "\\\n",
    "\n",
    "---\n",
    "\n",
    "## 1. Training and Validation Loss\n",
    "\n",
    "* RNN:\n",
    "\n",
    "    Train Loss: Lower compared to validation loss.\n",
    "    Validation Loss: Higher and stabilizes at a suboptimal level.\n",
    "    Observation: Indicates potential overfitting, as the model learns well on the training data but struggles with generalization.\n",
    "\n",
    "* LSTM:\n",
    "\n",
    "    Train Loss: Significantly lower than validation loss, but both are well-aligned.\n",
    "    Validation Loss: Stable and lower than RNN, indicating better generalization.\n",
    "    Observation: The LSTM's ability to capture long-term dependencies improves both training and validation performance.\n",
    "\n",
    "* GRU:\n",
    "\n",
    "    Train Loss: Slightly lower than LSTM but close to validation loss.\n",
    "    Validation Loss: Similar to LSTM and slightly better than RNN, showing good generalization.\n",
    "    Observation: GRU achieves similar generalization as LSTM but is slightly faster in convergence.\n",
    "\n",
    "\\\n",
    "\n",
    "---\n",
    "\n",
    "## 2. Training and Validation Accuracy\n",
    "\n",
    "* RNN:\n",
    "\n",
    "    Train Accuracy: ~97.5%\n",
    "    Validation Accuracy: ~95.2%\n",
    "    Observation: The RNN achieves relatively high accuracy, but it struggles to generalize as effectively as the LSTM or GRU.\n",
    "\n",
    "* LSTM:\n",
    "\n",
    "    Train Accuracy: ~98.1%\n",
    "    Validation Accuracy: ~95.4%\n",
    "    Observation: LSTM outperforms RNN in both training and validation accuracy due to its ability to handle long-term dependencies effectively.\n",
    "\n",
    "* GRU:\n",
    "\n",
    "    Train Accuracy: ~98.4%\n",
    "    Validation Accuracy: ~95.3%\n",
    "    Observation: GRU achieves slightly better training accuracy than LSTM but slightly lower validation accuracy, suggesting comparable generalization.\n",
    "\n",
    "\\\n",
    "\n",
    "---\n",
    "\n",
    "## 3. Precision, Recall, F1-Score\n",
    "\n",
    "* RNN:\n",
    "\n",
    "    Macro F1-Score: ~0.88\n",
    "    Weighted F1-Score: ~0.95\n",
    "    Observation: RNN performs decently, but its recall scores for some classes (e.g., B-MISC, I-MISC) are lower, which reduces overall effectiveness.\n",
    "\n",
    "* LSTM:\n",
    "\n",
    "    Macro F1-Score: ~0.83\n",
    "    Weighted F1-Score: ~0.95\n",
    "    Observation: LSTM achieves better precision and recall across most tags, especially I-PER, B-ORG, and B-MISC, which translates to higher overall performance.\n",
    "\n",
    "* GRU:\n",
    "\n",
    "    Macro F1-Score: ~0.83\n",
    "    Weighted F1-Score: ~0.95\n",
    "    Observation: GRU achieves results comparable to LSTM, with slightly better recall for some classes (e.g., I-ORG, B-LOC) but slightly worse precision for others.\n",
    "\n",
    "\\\n",
    "\n",
    "---\n",
    "\n",
    "## Overall Analysis:\n",
    "\n",
    "* RNN:\n",
    "\n",
    "    RNN struggles with generalization and has higher validation loss, indicating its limitations in handling longer dependencies.\n",
    "    While the accuracy is high, the model's recall and F1-scores show that it underperforms on minority classes.\n",
    "\n",
    "* LSTM:\n",
    "\n",
    "    LSTM outperforms RNN in both accuracy and generalization.\n",
    "    It has better loss stability and achieves higher F1-scores for most tags, indicating its effectiveness in learning sequence information.\n",
    "\n",
    "* GRU:\n",
    "\n",
    "    GRU performs similarly to LSTM, with comparable validation accuracy and F1-scores.\n",
    "    It converges slightly faster and shows better precision/recall for specific tags, making it a lightweight and efficient alternative to LSTM."
   ]
  },
  {
   "cell_type": "code",
   "execution_count": null,
   "metadata": {},
   "outputs": [],
   "source": []
  }
 ],
 "metadata": {
  "language_info": {
   "name": "python"
  },
  "orig_nbformat": 4
 },
 "nbformat": 4,
 "nbformat_minor": 2
}
